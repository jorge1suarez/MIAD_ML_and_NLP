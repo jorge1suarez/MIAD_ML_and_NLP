{
  "cells": [
    {
      "cell_type": "markdown",
      "metadata": {
        "id": "TniaIw3OWZms"
      },
      "source": [
        "![image info](https://raw.githubusercontent.com/albahnsen/MIAD_ML_and_NLP/main/images/banner_1.png)"
      ]
    },
    {
      "cell_type": "markdown",
      "metadata": {
        "id": "EBD5eJiYWZmw"
      },
      "source": [
        "# Taller: Construcción e implementación de árboles de decisión y métodos de ensamblaje\n",
        "\n",
        "En este taller podrá poner en práctica los sus conocimientos sobre construcción e implementación de árboles de decisión y métodos de ensamblajes. El taller está constituido por 9 puntos, 5 relacionados con árboles de decisión (parte A) y 4 con métodos de ensamblaje (parte B)."
      ]
    },
    {
      "cell_type": "markdown",
      "metadata": {
        "id": "dlxYWnO-WZmx"
      },
      "source": [
        "## Parte A - Árboles de decisión\n",
        "\n",
        "En esta parte del taller se usará el conjunto de datos de Capital Bikeshare de Kaggle, donde cada observación representa el alquiler de una bicicleta durante una hora y día determinado. Para más detalles puede visitar los siguientes enlaces: [datos](https://github.com/justmarkham/DAT8/blob/master/data/bikeshare.csv), [dicccionario de datos](https://www.kaggle.com/c/bike-sharing-demand/data)."
      ]
    },
    {
      "cell_type": "markdown",
      "metadata": {
        "id": "ro4ES6cOWZmy"
      },
      "source": [
        "### Datos prestamo de bicicletas"
      ]
    },
    {
      "cell_type": "code",
      "execution_count": 49,
      "metadata": {
        "id": "MZq3XYC2WZmz"
      },
      "outputs": [],
      "source": [
        "import warnings\n",
        "warnings.filterwarnings('ignore')"
      ]
    },
    {
      "cell_type": "code",
      "execution_count": 50,
      "metadata": {
        "id": "18IfC9Q6WZm0"
      },
      "outputs": [],
      "source": [
        "# Importación de librerías\n",
        "%matplotlib inline\n",
        "import pandas as pd\n",
        "import numpy as np\n",
        "from sklearn.model_selection import cross_val_score\n",
        "from sklearn.linear_model import LinearRegression\n",
        "from sklearn.tree import DecisionTreeRegressor, export_graphviz"
      ]
    },
    {
      "cell_type": "code",
      "execution_count": 51,
      "metadata": {
        "colab": {
          "base_uri": "https://localhost:8080/",
          "height": 237
        },
        "id": "lL1JsuhlWZm1",
        "outputId": "e27ece45-3365-4af2-ad1d-6486f51eebcb"
      },
      "outputs": [
        {
          "output_type": "execute_result",
          "data": {
            "text/plain": [
              "                     season  holiday  workingday  weather  temp   atemp  \\\n",
              "datetime                                                                  \n",
              "2011-01-01 00:00:00       1        0           0        1  9.84  14.395   \n",
              "2011-01-01 01:00:00       1        0           0        1  9.02  13.635   \n",
              "2011-01-01 02:00:00       1        0           0        1  9.02  13.635   \n",
              "2011-01-01 03:00:00       1        0           0        1  9.84  14.395   \n",
              "2011-01-01 04:00:00       1        0           0        1  9.84  14.395   \n",
              "\n",
              "                     humidity  windspeed  casual  registered  total  hour  \n",
              "datetime                                                                   \n",
              "2011-01-01 00:00:00        81        0.0       3          13     16     0  \n",
              "2011-01-01 01:00:00        80        0.0       8          32     40     1  \n",
              "2011-01-01 02:00:00        80        0.0       5          27     32     2  \n",
              "2011-01-01 03:00:00        75        0.0       3          10     13     3  \n",
              "2011-01-01 04:00:00        75        0.0       0           1      1     4  "
            ],
            "text/html": [
              "\n",
              "  <div id=\"df-a23ab203-dd47-45f4-8776-afd5138de53f\">\n",
              "    <div class=\"colab-df-container\">\n",
              "      <div>\n",
              "<style scoped>\n",
              "    .dataframe tbody tr th:only-of-type {\n",
              "        vertical-align: middle;\n",
              "    }\n",
              "\n",
              "    .dataframe tbody tr th {\n",
              "        vertical-align: top;\n",
              "    }\n",
              "\n",
              "    .dataframe thead th {\n",
              "        text-align: right;\n",
              "    }\n",
              "</style>\n",
              "<table border=\"1\" class=\"dataframe\">\n",
              "  <thead>\n",
              "    <tr style=\"text-align: right;\">\n",
              "      <th></th>\n",
              "      <th>season</th>\n",
              "      <th>holiday</th>\n",
              "      <th>workingday</th>\n",
              "      <th>weather</th>\n",
              "      <th>temp</th>\n",
              "      <th>atemp</th>\n",
              "      <th>humidity</th>\n",
              "      <th>windspeed</th>\n",
              "      <th>casual</th>\n",
              "      <th>registered</th>\n",
              "      <th>total</th>\n",
              "      <th>hour</th>\n",
              "    </tr>\n",
              "    <tr>\n",
              "      <th>datetime</th>\n",
              "      <th></th>\n",
              "      <th></th>\n",
              "      <th></th>\n",
              "      <th></th>\n",
              "      <th></th>\n",
              "      <th></th>\n",
              "      <th></th>\n",
              "      <th></th>\n",
              "      <th></th>\n",
              "      <th></th>\n",
              "      <th></th>\n",
              "      <th></th>\n",
              "    </tr>\n",
              "  </thead>\n",
              "  <tbody>\n",
              "    <tr>\n",
              "      <th>2011-01-01 00:00:00</th>\n",
              "      <td>1</td>\n",
              "      <td>0</td>\n",
              "      <td>0</td>\n",
              "      <td>1</td>\n",
              "      <td>9.84</td>\n",
              "      <td>14.395</td>\n",
              "      <td>81</td>\n",
              "      <td>0.0</td>\n",
              "      <td>3</td>\n",
              "      <td>13</td>\n",
              "      <td>16</td>\n",
              "      <td>0</td>\n",
              "    </tr>\n",
              "    <tr>\n",
              "      <th>2011-01-01 01:00:00</th>\n",
              "      <td>1</td>\n",
              "      <td>0</td>\n",
              "      <td>0</td>\n",
              "      <td>1</td>\n",
              "      <td>9.02</td>\n",
              "      <td>13.635</td>\n",
              "      <td>80</td>\n",
              "      <td>0.0</td>\n",
              "      <td>8</td>\n",
              "      <td>32</td>\n",
              "      <td>40</td>\n",
              "      <td>1</td>\n",
              "    </tr>\n",
              "    <tr>\n",
              "      <th>2011-01-01 02:00:00</th>\n",
              "      <td>1</td>\n",
              "      <td>0</td>\n",
              "      <td>0</td>\n",
              "      <td>1</td>\n",
              "      <td>9.02</td>\n",
              "      <td>13.635</td>\n",
              "      <td>80</td>\n",
              "      <td>0.0</td>\n",
              "      <td>5</td>\n",
              "      <td>27</td>\n",
              "      <td>32</td>\n",
              "      <td>2</td>\n",
              "    </tr>\n",
              "    <tr>\n",
              "      <th>2011-01-01 03:00:00</th>\n",
              "      <td>1</td>\n",
              "      <td>0</td>\n",
              "      <td>0</td>\n",
              "      <td>1</td>\n",
              "      <td>9.84</td>\n",
              "      <td>14.395</td>\n",
              "      <td>75</td>\n",
              "      <td>0.0</td>\n",
              "      <td>3</td>\n",
              "      <td>10</td>\n",
              "      <td>13</td>\n",
              "      <td>3</td>\n",
              "    </tr>\n",
              "    <tr>\n",
              "      <th>2011-01-01 04:00:00</th>\n",
              "      <td>1</td>\n",
              "      <td>0</td>\n",
              "      <td>0</td>\n",
              "      <td>1</td>\n",
              "      <td>9.84</td>\n",
              "      <td>14.395</td>\n",
              "      <td>75</td>\n",
              "      <td>0.0</td>\n",
              "      <td>0</td>\n",
              "      <td>1</td>\n",
              "      <td>1</td>\n",
              "      <td>4</td>\n",
              "    </tr>\n",
              "  </tbody>\n",
              "</table>\n",
              "</div>\n",
              "      <button class=\"colab-df-convert\" onclick=\"convertToInteractive('df-a23ab203-dd47-45f4-8776-afd5138de53f')\"\n",
              "              title=\"Convert this dataframe to an interactive table.\"\n",
              "              style=\"display:none;\">\n",
              "        \n",
              "  <svg xmlns=\"http://www.w3.org/2000/svg\" height=\"24px\"viewBox=\"0 0 24 24\"\n",
              "       width=\"24px\">\n",
              "    <path d=\"M0 0h24v24H0V0z\" fill=\"none\"/>\n",
              "    <path d=\"M18.56 5.44l.94 2.06.94-2.06 2.06-.94-2.06-.94-.94-2.06-.94 2.06-2.06.94zm-11 1L8.5 8.5l.94-2.06 2.06-.94-2.06-.94L8.5 2.5l-.94 2.06-2.06.94zm10 10l.94 2.06.94-2.06 2.06-.94-2.06-.94-.94-2.06-.94 2.06-2.06.94z\"/><path d=\"M17.41 7.96l-1.37-1.37c-.4-.4-.92-.59-1.43-.59-.52 0-1.04.2-1.43.59L10.3 9.45l-7.72 7.72c-.78.78-.78 2.05 0 2.83L4 21.41c.39.39.9.59 1.41.59.51 0 1.02-.2 1.41-.59l7.78-7.78 2.81-2.81c.8-.78.8-2.07 0-2.86zM5.41 20L4 18.59l7.72-7.72 1.47 1.35L5.41 20z\"/>\n",
              "  </svg>\n",
              "      </button>\n",
              "      \n",
              "  <style>\n",
              "    .colab-df-container {\n",
              "      display:flex;\n",
              "      flex-wrap:wrap;\n",
              "      gap: 12px;\n",
              "    }\n",
              "\n",
              "    .colab-df-convert {\n",
              "      background-color: #E8F0FE;\n",
              "      border: none;\n",
              "      border-radius: 50%;\n",
              "      cursor: pointer;\n",
              "      display: none;\n",
              "      fill: #1967D2;\n",
              "      height: 32px;\n",
              "      padding: 0 0 0 0;\n",
              "      width: 32px;\n",
              "    }\n",
              "\n",
              "    .colab-df-convert:hover {\n",
              "      background-color: #E2EBFA;\n",
              "      box-shadow: 0px 1px 2px rgba(60, 64, 67, 0.3), 0px 1px 3px 1px rgba(60, 64, 67, 0.15);\n",
              "      fill: #174EA6;\n",
              "    }\n",
              "\n",
              "    [theme=dark] .colab-df-convert {\n",
              "      background-color: #3B4455;\n",
              "      fill: #D2E3FC;\n",
              "    }\n",
              "\n",
              "    [theme=dark] .colab-df-convert:hover {\n",
              "      background-color: #434B5C;\n",
              "      box-shadow: 0px 1px 3px 1px rgba(0, 0, 0, 0.15);\n",
              "      filter: drop-shadow(0px 1px 2px rgba(0, 0, 0, 0.3));\n",
              "      fill: #FFFFFF;\n",
              "    }\n",
              "  </style>\n",
              "\n",
              "      <script>\n",
              "        const buttonEl =\n",
              "          document.querySelector('#df-a23ab203-dd47-45f4-8776-afd5138de53f button.colab-df-convert');\n",
              "        buttonEl.style.display =\n",
              "          google.colab.kernel.accessAllowed ? 'block' : 'none';\n",
              "\n",
              "        async function convertToInteractive(key) {\n",
              "          const element = document.querySelector('#df-a23ab203-dd47-45f4-8776-afd5138de53f');\n",
              "          const dataTable =\n",
              "            await google.colab.kernel.invokeFunction('convertToInteractive',\n",
              "                                                     [key], {});\n",
              "          if (!dataTable) return;\n",
              "\n",
              "          const docLinkHtml = 'Like what you see? Visit the ' +\n",
              "            '<a target=\"_blank\" href=https://colab.research.google.com/notebooks/data_table.ipynb>data table notebook</a>'\n",
              "            + ' to learn more about interactive tables.';\n",
              "          element.innerHTML = '';\n",
              "          dataTable['output_type'] = 'display_data';\n",
              "          await google.colab.output.renderOutput(dataTable, element);\n",
              "          const docLink = document.createElement('div');\n",
              "          docLink.innerHTML = docLinkHtml;\n",
              "          element.appendChild(docLink);\n",
              "        }\n",
              "      </script>\n",
              "    </div>\n",
              "  </div>\n",
              "  "
            ]
          },
          "metadata": {},
          "execution_count": 51
        }
      ],
      "source": [
        "# Lectura de la información de archivo .csv\n",
        "bikes = pd.read_csv('https://raw.githubusercontent.com/albahnsen/MIAD_ML_and_NLP/main/datasets/bikeshare.csv', index_col='datetime', parse_dates=True)\n",
        "# Renombrar variable \"count\" a \"total\"\n",
        "bikes.rename(columns={'count':'total'}, inplace=True)\n",
        "# Crear la hora como una variable \n",
        "bikes['hour'] = bikes.index.hour\n",
        "# Visualización\n",
        "bikes.head()"
      ]
    },
    {
      "cell_type": "markdown",
      "metadata": {
        "id": "ya-n-cX4WZm2"
      },
      "source": [
        "### Punto 1 - Análisis descriptivo\n",
        "\n",
        "Ejecute las celdas 1.1 y 1.2. A partir de los resultados realice un análisis descriptivo sobre las variables hour y workingday, escriba sus inferencias sobre los datos. Para complementar su análisis puede usar métricas como máximo, mínimo, percentiles entre otros."
      ]
    },
    {
      "cell_type": "code",
      "execution_count": 52,
      "metadata": {
        "colab": {
          "base_uri": "https://localhost:8080/"
        },
        "id": "mtoLNUPlWZm3",
        "outputId": "a3b9402e-6e7c-46c5-806c-06d2a376b7cb"
      },
      "outputs": [
        {
          "output_type": "execute_result",
          "data": {
            "text/plain": [
              "workingday\n",
              "0    188.506621\n",
              "1    193.011873\n",
              "Name: total, dtype: float64"
            ]
          },
          "metadata": {},
          "execution_count": 52
        }
      ],
      "source": [
        "# Celda 1.1\n",
        "bikes.groupby('workingday').total.mean()"
      ]
    },
    {
      "cell_type": "code",
      "execution_count": 53,
      "metadata": {
        "colab": {
          "base_uri": "https://localhost:8080/"
        },
        "id": "6tu_ZCzlWZm4",
        "outputId": "8e8753d0-30c5-4361-a64b-e2b2b8d3ae82",
        "scrolled": true
      },
      "outputs": [
        {
          "output_type": "execute_result",
          "data": {
            "text/plain": [
              "hour\n",
              "0      55.138462\n",
              "1      33.859031\n",
              "2      22.899554\n",
              "3      11.757506\n",
              "4       6.407240\n",
              "5      19.767699\n",
              "6      76.259341\n",
              "7     213.116484\n",
              "8     362.769231\n",
              "9     221.780220\n",
              "10    175.092308\n",
              "11    210.674725\n",
              "12    256.508772\n",
              "13    257.787281\n",
              "14    243.442982\n",
              "15    254.298246\n",
              "16    316.372807\n",
              "17    468.765351\n",
              "18    430.859649\n",
              "19    315.278509\n",
              "20    228.517544\n",
              "21    173.370614\n",
              "22    133.576754\n",
              "23     89.508772\n",
              "Name: total, dtype: float64"
            ]
          },
          "metadata": {},
          "execution_count": 53
        }
      ],
      "source": [
        "# Celda 1.2\n",
        "bikes.groupby('hour').total.mean()"
      ]
    },
    {
      "cell_type": "code",
      "execution_count": 54,
      "metadata": {
        "colab": {
          "base_uri": "https://localhost:8080/",
          "height": 143
        },
        "id": "iC9mUY1WXYUq",
        "outputId": "4239195a-5f94-497a-f1f3-431cce141f30"
      },
      "outputs": [
        {
          "output_type": "execute_result",
          "data": {
            "text/plain": [
              "             count        mean         std  min   25%    50%    75%    max\n",
              "workingday                                                                \n",
              "0           3474.0  188.506621  173.724015  1.0  44.0  128.0  304.0  783.0\n",
              "1           7412.0  193.011873  184.513659  1.0  41.0  151.0  277.0  977.0"
            ],
            "text/html": [
              "\n",
              "  <div id=\"df-75c220db-46d4-4536-9821-e75b106def11\">\n",
              "    <div class=\"colab-df-container\">\n",
              "      <div>\n",
              "<style scoped>\n",
              "    .dataframe tbody tr th:only-of-type {\n",
              "        vertical-align: middle;\n",
              "    }\n",
              "\n",
              "    .dataframe tbody tr th {\n",
              "        vertical-align: top;\n",
              "    }\n",
              "\n",
              "    .dataframe thead th {\n",
              "        text-align: right;\n",
              "    }\n",
              "</style>\n",
              "<table border=\"1\" class=\"dataframe\">\n",
              "  <thead>\n",
              "    <tr style=\"text-align: right;\">\n",
              "      <th></th>\n",
              "      <th>count</th>\n",
              "      <th>mean</th>\n",
              "      <th>std</th>\n",
              "      <th>min</th>\n",
              "      <th>25%</th>\n",
              "      <th>50%</th>\n",
              "      <th>75%</th>\n",
              "      <th>max</th>\n",
              "    </tr>\n",
              "    <tr>\n",
              "      <th>workingday</th>\n",
              "      <th></th>\n",
              "      <th></th>\n",
              "      <th></th>\n",
              "      <th></th>\n",
              "      <th></th>\n",
              "      <th></th>\n",
              "      <th></th>\n",
              "      <th></th>\n",
              "    </tr>\n",
              "  </thead>\n",
              "  <tbody>\n",
              "    <tr>\n",
              "      <th>0</th>\n",
              "      <td>3474.0</td>\n",
              "      <td>188.506621</td>\n",
              "      <td>173.724015</td>\n",
              "      <td>1.0</td>\n",
              "      <td>44.0</td>\n",
              "      <td>128.0</td>\n",
              "      <td>304.0</td>\n",
              "      <td>783.0</td>\n",
              "    </tr>\n",
              "    <tr>\n",
              "      <th>1</th>\n",
              "      <td>7412.0</td>\n",
              "      <td>193.011873</td>\n",
              "      <td>184.513659</td>\n",
              "      <td>1.0</td>\n",
              "      <td>41.0</td>\n",
              "      <td>151.0</td>\n",
              "      <td>277.0</td>\n",
              "      <td>977.0</td>\n",
              "    </tr>\n",
              "  </tbody>\n",
              "</table>\n",
              "</div>\n",
              "      <button class=\"colab-df-convert\" onclick=\"convertToInteractive('df-75c220db-46d4-4536-9821-e75b106def11')\"\n",
              "              title=\"Convert this dataframe to an interactive table.\"\n",
              "              style=\"display:none;\">\n",
              "        \n",
              "  <svg xmlns=\"http://www.w3.org/2000/svg\" height=\"24px\"viewBox=\"0 0 24 24\"\n",
              "       width=\"24px\">\n",
              "    <path d=\"M0 0h24v24H0V0z\" fill=\"none\"/>\n",
              "    <path d=\"M18.56 5.44l.94 2.06.94-2.06 2.06-.94-2.06-.94-.94-2.06-.94 2.06-2.06.94zm-11 1L8.5 8.5l.94-2.06 2.06-.94-2.06-.94L8.5 2.5l-.94 2.06-2.06.94zm10 10l.94 2.06.94-2.06 2.06-.94-2.06-.94-.94-2.06-.94 2.06-2.06.94z\"/><path d=\"M17.41 7.96l-1.37-1.37c-.4-.4-.92-.59-1.43-.59-.52 0-1.04.2-1.43.59L10.3 9.45l-7.72 7.72c-.78.78-.78 2.05 0 2.83L4 21.41c.39.39.9.59 1.41.59.51 0 1.02-.2 1.41-.59l7.78-7.78 2.81-2.81c.8-.78.8-2.07 0-2.86zM5.41 20L4 18.59l7.72-7.72 1.47 1.35L5.41 20z\"/>\n",
              "  </svg>\n",
              "      </button>\n",
              "      \n",
              "  <style>\n",
              "    .colab-df-container {\n",
              "      display:flex;\n",
              "      flex-wrap:wrap;\n",
              "      gap: 12px;\n",
              "    }\n",
              "\n",
              "    .colab-df-convert {\n",
              "      background-color: #E8F0FE;\n",
              "      border: none;\n",
              "      border-radius: 50%;\n",
              "      cursor: pointer;\n",
              "      display: none;\n",
              "      fill: #1967D2;\n",
              "      height: 32px;\n",
              "      padding: 0 0 0 0;\n",
              "      width: 32px;\n",
              "    }\n",
              "\n",
              "    .colab-df-convert:hover {\n",
              "      background-color: #E2EBFA;\n",
              "      box-shadow: 0px 1px 2px rgba(60, 64, 67, 0.3), 0px 1px 3px 1px rgba(60, 64, 67, 0.15);\n",
              "      fill: #174EA6;\n",
              "    }\n",
              "\n",
              "    [theme=dark] .colab-df-convert {\n",
              "      background-color: #3B4455;\n",
              "      fill: #D2E3FC;\n",
              "    }\n",
              "\n",
              "    [theme=dark] .colab-df-convert:hover {\n",
              "      background-color: #434B5C;\n",
              "      box-shadow: 0px 1px 3px 1px rgba(0, 0, 0, 0.15);\n",
              "      filter: drop-shadow(0px 1px 2px rgba(0, 0, 0, 0.3));\n",
              "      fill: #FFFFFF;\n",
              "    }\n",
              "  </style>\n",
              "\n",
              "      <script>\n",
              "        const buttonEl =\n",
              "          document.querySelector('#df-75c220db-46d4-4536-9821-e75b106def11 button.colab-df-convert');\n",
              "        buttonEl.style.display =\n",
              "          google.colab.kernel.accessAllowed ? 'block' : 'none';\n",
              "\n",
              "        async function convertToInteractive(key) {\n",
              "          const element = document.querySelector('#df-75c220db-46d4-4536-9821-e75b106def11');\n",
              "          const dataTable =\n",
              "            await google.colab.kernel.invokeFunction('convertToInteractive',\n",
              "                                                     [key], {});\n",
              "          if (!dataTable) return;\n",
              "\n",
              "          const docLinkHtml = 'Like what you see? Visit the ' +\n",
              "            '<a target=\"_blank\" href=https://colab.research.google.com/notebooks/data_table.ipynb>data table notebook</a>'\n",
              "            + ' to learn more about interactive tables.';\n",
              "          element.innerHTML = '';\n",
              "          dataTable['output_type'] = 'display_data';\n",
              "          await google.colab.output.renderOutput(dataTable, element);\n",
              "          const docLink = document.createElement('div');\n",
              "          docLink.innerHTML = docLinkHtml;\n",
              "          element.appendChild(docLink);\n",
              "        }\n",
              "      </script>\n",
              "    </div>\n",
              "  </div>\n",
              "  "
            ]
          },
          "metadata": {},
          "execution_count": 54
        }
      ],
      "source": [
        "bikes.groupby('workingday').total.describe()"
      ]
    },
    {
      "cell_type": "code",
      "execution_count": 55,
      "metadata": {
        "colab": {
          "base_uri": "https://localhost:8080/",
          "height": 833
        },
        "id": "7P04W4VZws38",
        "outputId": "35ac1e93-effc-4bcc-8734-e2b83ec63392"
      },
      "outputs": [
        {
          "output_type": "execute_result",
          "data": {
            "text/plain": [
              "      count        mean         std   min     25%    50%     75%    max\n",
              "hour                                                                   \n",
              "0     455.0   55.138462   43.620012   2.0   24.00   41.0   74.50  283.0\n",
              "1     454.0   33.859031   34.112105   1.0   11.00   19.0   46.00  168.0\n",
              "2     448.0   22.899554   26.110267   1.0    5.00   11.0   32.00  119.0\n",
              "3     433.0   11.757506   12.666442   1.0    3.00    6.0   15.00   66.0\n",
              "4     442.0    6.407240    4.217633   1.0    3.00    6.0    9.00   28.0\n",
              "5     452.0   19.767699   12.784293   1.0    8.00   19.0   29.00   57.0\n",
              "6     455.0   76.259341   54.745333   1.0   24.50   75.0  118.00  213.0\n",
              "7     455.0  213.116484  159.207044   1.0   63.00  208.0  334.00  596.0\n",
              "8     455.0  362.769231  231.723065   8.0  133.50  392.0  563.50  839.0\n",
              "9     455.0  221.780220   92.099209  14.0  161.00  217.0  294.50  414.0\n",
              "10    455.0  175.092308  101.807629  17.0  106.00  149.0  218.50  539.0\n",
              "11    455.0  210.674725  127.444294  10.0  123.00  183.0  265.50  647.0\n",
              "12    456.0  256.508772  143.881880   3.0  157.00  234.5  332.00  757.0\n",
              "13    456.0  257.787281  149.167185  11.0  154.00  226.5  329.00  729.0\n",
              "14    456.0  243.442982  147.563199  12.0  144.00  212.0  311.25  730.0\n",
              "15    456.0  254.298246  144.235670   7.0  154.00  232.0  331.00  724.0\n",
              "16    456.0  316.372807  145.664786  11.0  211.75  309.5  421.00  783.0\n",
              "17    456.0  468.765351  223.775485  15.0  277.00  480.5  608.50  970.0\n",
              "18    456.0  430.859649  219.908138  23.0  240.75  422.5  564.00  977.0\n",
              "19    456.0  315.278509  156.641732  11.0  190.00  312.5  416.00  743.0\n",
              "20    456.0  228.517544  116.411565  11.0  136.75  224.0  302.00  551.0\n",
              "21    456.0  173.370614   87.629319   6.0  103.50  171.5  230.00  584.0\n",
              "22    456.0  133.576754   69.844495   9.0   80.00  129.0  175.00  502.0\n",
              "23    456.0   89.508772   51.638004   4.0   52.75   80.0  123.00  256.0"
            ],
            "text/html": [
              "\n",
              "  <div id=\"df-ef2d63d6-0dec-4ac9-a658-a58f4b990183\">\n",
              "    <div class=\"colab-df-container\">\n",
              "      <div>\n",
              "<style scoped>\n",
              "    .dataframe tbody tr th:only-of-type {\n",
              "        vertical-align: middle;\n",
              "    }\n",
              "\n",
              "    .dataframe tbody tr th {\n",
              "        vertical-align: top;\n",
              "    }\n",
              "\n",
              "    .dataframe thead th {\n",
              "        text-align: right;\n",
              "    }\n",
              "</style>\n",
              "<table border=\"1\" class=\"dataframe\">\n",
              "  <thead>\n",
              "    <tr style=\"text-align: right;\">\n",
              "      <th></th>\n",
              "      <th>count</th>\n",
              "      <th>mean</th>\n",
              "      <th>std</th>\n",
              "      <th>min</th>\n",
              "      <th>25%</th>\n",
              "      <th>50%</th>\n",
              "      <th>75%</th>\n",
              "      <th>max</th>\n",
              "    </tr>\n",
              "    <tr>\n",
              "      <th>hour</th>\n",
              "      <th></th>\n",
              "      <th></th>\n",
              "      <th></th>\n",
              "      <th></th>\n",
              "      <th></th>\n",
              "      <th></th>\n",
              "      <th></th>\n",
              "      <th></th>\n",
              "    </tr>\n",
              "  </thead>\n",
              "  <tbody>\n",
              "    <tr>\n",
              "      <th>0</th>\n",
              "      <td>455.0</td>\n",
              "      <td>55.138462</td>\n",
              "      <td>43.620012</td>\n",
              "      <td>2.0</td>\n",
              "      <td>24.00</td>\n",
              "      <td>41.0</td>\n",
              "      <td>74.50</td>\n",
              "      <td>283.0</td>\n",
              "    </tr>\n",
              "    <tr>\n",
              "      <th>1</th>\n",
              "      <td>454.0</td>\n",
              "      <td>33.859031</td>\n",
              "      <td>34.112105</td>\n",
              "      <td>1.0</td>\n",
              "      <td>11.00</td>\n",
              "      <td>19.0</td>\n",
              "      <td>46.00</td>\n",
              "      <td>168.0</td>\n",
              "    </tr>\n",
              "    <tr>\n",
              "      <th>2</th>\n",
              "      <td>448.0</td>\n",
              "      <td>22.899554</td>\n",
              "      <td>26.110267</td>\n",
              "      <td>1.0</td>\n",
              "      <td>5.00</td>\n",
              "      <td>11.0</td>\n",
              "      <td>32.00</td>\n",
              "      <td>119.0</td>\n",
              "    </tr>\n",
              "    <tr>\n",
              "      <th>3</th>\n",
              "      <td>433.0</td>\n",
              "      <td>11.757506</td>\n",
              "      <td>12.666442</td>\n",
              "      <td>1.0</td>\n",
              "      <td>3.00</td>\n",
              "      <td>6.0</td>\n",
              "      <td>15.00</td>\n",
              "      <td>66.0</td>\n",
              "    </tr>\n",
              "    <tr>\n",
              "      <th>4</th>\n",
              "      <td>442.0</td>\n",
              "      <td>6.407240</td>\n",
              "      <td>4.217633</td>\n",
              "      <td>1.0</td>\n",
              "      <td>3.00</td>\n",
              "      <td>6.0</td>\n",
              "      <td>9.00</td>\n",
              "      <td>28.0</td>\n",
              "    </tr>\n",
              "    <tr>\n",
              "      <th>5</th>\n",
              "      <td>452.0</td>\n",
              "      <td>19.767699</td>\n",
              "      <td>12.784293</td>\n",
              "      <td>1.0</td>\n",
              "      <td>8.00</td>\n",
              "      <td>19.0</td>\n",
              "      <td>29.00</td>\n",
              "      <td>57.0</td>\n",
              "    </tr>\n",
              "    <tr>\n",
              "      <th>6</th>\n",
              "      <td>455.0</td>\n",
              "      <td>76.259341</td>\n",
              "      <td>54.745333</td>\n",
              "      <td>1.0</td>\n",
              "      <td>24.50</td>\n",
              "      <td>75.0</td>\n",
              "      <td>118.00</td>\n",
              "      <td>213.0</td>\n",
              "    </tr>\n",
              "    <tr>\n",
              "      <th>7</th>\n",
              "      <td>455.0</td>\n",
              "      <td>213.116484</td>\n",
              "      <td>159.207044</td>\n",
              "      <td>1.0</td>\n",
              "      <td>63.00</td>\n",
              "      <td>208.0</td>\n",
              "      <td>334.00</td>\n",
              "      <td>596.0</td>\n",
              "    </tr>\n",
              "    <tr>\n",
              "      <th>8</th>\n",
              "      <td>455.0</td>\n",
              "      <td>362.769231</td>\n",
              "      <td>231.723065</td>\n",
              "      <td>8.0</td>\n",
              "      <td>133.50</td>\n",
              "      <td>392.0</td>\n",
              "      <td>563.50</td>\n",
              "      <td>839.0</td>\n",
              "    </tr>\n",
              "    <tr>\n",
              "      <th>9</th>\n",
              "      <td>455.0</td>\n",
              "      <td>221.780220</td>\n",
              "      <td>92.099209</td>\n",
              "      <td>14.0</td>\n",
              "      <td>161.00</td>\n",
              "      <td>217.0</td>\n",
              "      <td>294.50</td>\n",
              "      <td>414.0</td>\n",
              "    </tr>\n",
              "    <tr>\n",
              "      <th>10</th>\n",
              "      <td>455.0</td>\n",
              "      <td>175.092308</td>\n",
              "      <td>101.807629</td>\n",
              "      <td>17.0</td>\n",
              "      <td>106.00</td>\n",
              "      <td>149.0</td>\n",
              "      <td>218.50</td>\n",
              "      <td>539.0</td>\n",
              "    </tr>\n",
              "    <tr>\n",
              "      <th>11</th>\n",
              "      <td>455.0</td>\n",
              "      <td>210.674725</td>\n",
              "      <td>127.444294</td>\n",
              "      <td>10.0</td>\n",
              "      <td>123.00</td>\n",
              "      <td>183.0</td>\n",
              "      <td>265.50</td>\n",
              "      <td>647.0</td>\n",
              "    </tr>\n",
              "    <tr>\n",
              "      <th>12</th>\n",
              "      <td>456.0</td>\n",
              "      <td>256.508772</td>\n",
              "      <td>143.881880</td>\n",
              "      <td>3.0</td>\n",
              "      <td>157.00</td>\n",
              "      <td>234.5</td>\n",
              "      <td>332.00</td>\n",
              "      <td>757.0</td>\n",
              "    </tr>\n",
              "    <tr>\n",
              "      <th>13</th>\n",
              "      <td>456.0</td>\n",
              "      <td>257.787281</td>\n",
              "      <td>149.167185</td>\n",
              "      <td>11.0</td>\n",
              "      <td>154.00</td>\n",
              "      <td>226.5</td>\n",
              "      <td>329.00</td>\n",
              "      <td>729.0</td>\n",
              "    </tr>\n",
              "    <tr>\n",
              "      <th>14</th>\n",
              "      <td>456.0</td>\n",
              "      <td>243.442982</td>\n",
              "      <td>147.563199</td>\n",
              "      <td>12.0</td>\n",
              "      <td>144.00</td>\n",
              "      <td>212.0</td>\n",
              "      <td>311.25</td>\n",
              "      <td>730.0</td>\n",
              "    </tr>\n",
              "    <tr>\n",
              "      <th>15</th>\n",
              "      <td>456.0</td>\n",
              "      <td>254.298246</td>\n",
              "      <td>144.235670</td>\n",
              "      <td>7.0</td>\n",
              "      <td>154.00</td>\n",
              "      <td>232.0</td>\n",
              "      <td>331.00</td>\n",
              "      <td>724.0</td>\n",
              "    </tr>\n",
              "    <tr>\n",
              "      <th>16</th>\n",
              "      <td>456.0</td>\n",
              "      <td>316.372807</td>\n",
              "      <td>145.664786</td>\n",
              "      <td>11.0</td>\n",
              "      <td>211.75</td>\n",
              "      <td>309.5</td>\n",
              "      <td>421.00</td>\n",
              "      <td>783.0</td>\n",
              "    </tr>\n",
              "    <tr>\n",
              "      <th>17</th>\n",
              "      <td>456.0</td>\n",
              "      <td>468.765351</td>\n",
              "      <td>223.775485</td>\n",
              "      <td>15.0</td>\n",
              "      <td>277.00</td>\n",
              "      <td>480.5</td>\n",
              "      <td>608.50</td>\n",
              "      <td>970.0</td>\n",
              "    </tr>\n",
              "    <tr>\n",
              "      <th>18</th>\n",
              "      <td>456.0</td>\n",
              "      <td>430.859649</td>\n",
              "      <td>219.908138</td>\n",
              "      <td>23.0</td>\n",
              "      <td>240.75</td>\n",
              "      <td>422.5</td>\n",
              "      <td>564.00</td>\n",
              "      <td>977.0</td>\n",
              "    </tr>\n",
              "    <tr>\n",
              "      <th>19</th>\n",
              "      <td>456.0</td>\n",
              "      <td>315.278509</td>\n",
              "      <td>156.641732</td>\n",
              "      <td>11.0</td>\n",
              "      <td>190.00</td>\n",
              "      <td>312.5</td>\n",
              "      <td>416.00</td>\n",
              "      <td>743.0</td>\n",
              "    </tr>\n",
              "    <tr>\n",
              "      <th>20</th>\n",
              "      <td>456.0</td>\n",
              "      <td>228.517544</td>\n",
              "      <td>116.411565</td>\n",
              "      <td>11.0</td>\n",
              "      <td>136.75</td>\n",
              "      <td>224.0</td>\n",
              "      <td>302.00</td>\n",
              "      <td>551.0</td>\n",
              "    </tr>\n",
              "    <tr>\n",
              "      <th>21</th>\n",
              "      <td>456.0</td>\n",
              "      <td>173.370614</td>\n",
              "      <td>87.629319</td>\n",
              "      <td>6.0</td>\n",
              "      <td>103.50</td>\n",
              "      <td>171.5</td>\n",
              "      <td>230.00</td>\n",
              "      <td>584.0</td>\n",
              "    </tr>\n",
              "    <tr>\n",
              "      <th>22</th>\n",
              "      <td>456.0</td>\n",
              "      <td>133.576754</td>\n",
              "      <td>69.844495</td>\n",
              "      <td>9.0</td>\n",
              "      <td>80.00</td>\n",
              "      <td>129.0</td>\n",
              "      <td>175.00</td>\n",
              "      <td>502.0</td>\n",
              "    </tr>\n",
              "    <tr>\n",
              "      <th>23</th>\n",
              "      <td>456.0</td>\n",
              "      <td>89.508772</td>\n",
              "      <td>51.638004</td>\n",
              "      <td>4.0</td>\n",
              "      <td>52.75</td>\n",
              "      <td>80.0</td>\n",
              "      <td>123.00</td>\n",
              "      <td>256.0</td>\n",
              "    </tr>\n",
              "  </tbody>\n",
              "</table>\n",
              "</div>\n",
              "      <button class=\"colab-df-convert\" onclick=\"convertToInteractive('df-ef2d63d6-0dec-4ac9-a658-a58f4b990183')\"\n",
              "              title=\"Convert this dataframe to an interactive table.\"\n",
              "              style=\"display:none;\">\n",
              "        \n",
              "  <svg xmlns=\"http://www.w3.org/2000/svg\" height=\"24px\"viewBox=\"0 0 24 24\"\n",
              "       width=\"24px\">\n",
              "    <path d=\"M0 0h24v24H0V0z\" fill=\"none\"/>\n",
              "    <path d=\"M18.56 5.44l.94 2.06.94-2.06 2.06-.94-2.06-.94-.94-2.06-.94 2.06-2.06.94zm-11 1L8.5 8.5l.94-2.06 2.06-.94-2.06-.94L8.5 2.5l-.94 2.06-2.06.94zm10 10l.94 2.06.94-2.06 2.06-.94-2.06-.94-.94-2.06-.94 2.06-2.06.94z\"/><path d=\"M17.41 7.96l-1.37-1.37c-.4-.4-.92-.59-1.43-.59-.52 0-1.04.2-1.43.59L10.3 9.45l-7.72 7.72c-.78.78-.78 2.05 0 2.83L4 21.41c.39.39.9.59 1.41.59.51 0 1.02-.2 1.41-.59l7.78-7.78 2.81-2.81c.8-.78.8-2.07 0-2.86zM5.41 20L4 18.59l7.72-7.72 1.47 1.35L5.41 20z\"/>\n",
              "  </svg>\n",
              "      </button>\n",
              "      \n",
              "  <style>\n",
              "    .colab-df-container {\n",
              "      display:flex;\n",
              "      flex-wrap:wrap;\n",
              "      gap: 12px;\n",
              "    }\n",
              "\n",
              "    .colab-df-convert {\n",
              "      background-color: #E8F0FE;\n",
              "      border: none;\n",
              "      border-radius: 50%;\n",
              "      cursor: pointer;\n",
              "      display: none;\n",
              "      fill: #1967D2;\n",
              "      height: 32px;\n",
              "      padding: 0 0 0 0;\n",
              "      width: 32px;\n",
              "    }\n",
              "\n",
              "    .colab-df-convert:hover {\n",
              "      background-color: #E2EBFA;\n",
              "      box-shadow: 0px 1px 2px rgba(60, 64, 67, 0.3), 0px 1px 3px 1px rgba(60, 64, 67, 0.15);\n",
              "      fill: #174EA6;\n",
              "    }\n",
              "\n",
              "    [theme=dark] .colab-df-convert {\n",
              "      background-color: #3B4455;\n",
              "      fill: #D2E3FC;\n",
              "    }\n",
              "\n",
              "    [theme=dark] .colab-df-convert:hover {\n",
              "      background-color: #434B5C;\n",
              "      box-shadow: 0px 1px 3px 1px rgba(0, 0, 0, 0.15);\n",
              "      filter: drop-shadow(0px 1px 2px rgba(0, 0, 0, 0.3));\n",
              "      fill: #FFFFFF;\n",
              "    }\n",
              "  </style>\n",
              "\n",
              "      <script>\n",
              "        const buttonEl =\n",
              "          document.querySelector('#df-ef2d63d6-0dec-4ac9-a658-a58f4b990183 button.colab-df-convert');\n",
              "        buttonEl.style.display =\n",
              "          google.colab.kernel.accessAllowed ? 'block' : 'none';\n",
              "\n",
              "        async function convertToInteractive(key) {\n",
              "          const element = document.querySelector('#df-ef2d63d6-0dec-4ac9-a658-a58f4b990183');\n",
              "          const dataTable =\n",
              "            await google.colab.kernel.invokeFunction('convertToInteractive',\n",
              "                                                     [key], {});\n",
              "          if (!dataTable) return;\n",
              "\n",
              "          const docLinkHtml = 'Like what you see? Visit the ' +\n",
              "            '<a target=\"_blank\" href=https://colab.research.google.com/notebooks/data_table.ipynb>data table notebook</a>'\n",
              "            + ' to learn more about interactive tables.';\n",
              "          element.innerHTML = '';\n",
              "          dataTable['output_type'] = 'display_data';\n",
              "          await google.colab.output.renderOutput(dataTable, element);\n",
              "          const docLink = document.createElement('div');\n",
              "          docLink.innerHTML = docLinkHtml;\n",
              "          element.appendChild(docLink);\n",
              "        }\n",
              "      </script>\n",
              "    </div>\n",
              "  </div>\n",
              "  "
            ]
          },
          "metadata": {},
          "execution_count": 55
        }
      ],
      "source": [
        "bikes.groupby('hour').total.describe()"
      ]
    },
    {
      "cell_type": "markdown",
      "metadata": {
        "id": "HcZm3n7q9EGh"
      },
      "source": [
        "La variable \"workingday\" es una variable categórica binaria, en cuanto al alquiler de bicicleta en un día laboral o no. Los valores de la media, mínimo y máximo entre estas dos categorias es balanceado, algo mayor para los días laborales con un valor máximo de 977.\n",
        "\n",
        "En cuanto a \"hour\", los valores más bajos de alquiler se presentaron entre 23 y 6 horas, evidenciado en los resultados mínimos, media y percentiles de estas horas, con la menor media de 6.4 a las 4am. Hay un aumento importante en el alquiler de bicicletas de 7 a 8am con un máximo de 839 en relación al transporte destino, y durante la tarde entre 16 a 19 horas con máximo de 977 a las 18h y mayor percentil 50% de 480.5 a las 17h, ya que las personas regresan a su origen."
      ]
    },
    {
      "cell_type": "markdown",
      "metadata": {
        "id": "ArWFnYkaWZm5"
      },
      "source": [
        "### Punto 2 - Análisis de gráficos\n",
        "\n",
        "Primero ejecute la celda 2.1 y asegúrese de comprender el código y el resultado. Luego, en cada una de celdas 2.2 y 2.3 escriba un código que genere una gráfica de las rentas promedio por hora cuando la variable \"workingday\" es igual a 0 e igual a 1, respectivamente. Analice y escriba sus hallazgos."
      ]
    },
    {
      "cell_type": "code",
      "execution_count": 56,
      "metadata": {
        "colab": {
          "base_uri": "https://localhost:8080/",
          "height": 297
        },
        "id": "GmfcJBBzWZm5",
        "outputId": "741def77-8bbb-4c78-df6e-cb7417848db4"
      },
      "outputs": [
        {
          "output_type": "execute_result",
          "data": {
            "text/plain": [
              "<matplotlib.axes._subplots.AxesSubplot at 0x7f10a9b2ea50>"
            ]
          },
          "metadata": {},
          "execution_count": 56
        },
        {
          "output_type": "display_data",
          "data": {
            "text/plain": [
              "<Figure size 432x288 with 1 Axes>"
            ],
            "image/png": "[encoded data removed]"
          },
          "metadata": {
            "needs_background": "light"
          }
        }
      ],
      "source": [
        "# Celda 2.1 - rentas promedio para cada valor de la variable \"hour\"\n",
        "import matplotlib.pyplot as plt\n",
        "\n",
        "bikes.groupby('hour').total.mean().plot()"
      ]
    },
    {
      "cell_type": "code",
      "execution_count": 57,
      "metadata": {
        "colab": {
          "base_uri": "https://localhost:8080/",
          "height": 298
        },
        "id": "jePWs5LTWZm6",
        "outputId": "b8e9df8b-2246-40f3-ac9a-b53e01c706ba"
      },
      "outputs": [
        {
          "output_type": "execute_result",
          "data": {
            "text/plain": [
              "<matplotlib.axes._subplots.AxesSubplot at 0x7f10a70e6790>"
            ]
          },
          "metadata": {},
          "execution_count": 57
        },
        {
          "output_type": "display_data",
          "data": {
            "text/plain": [
              "<Figure size 432x288 with 1 Axes>"
            ],
            "image/png": "[encoded data removed]"
          },
          "metadata": {
            "needs_background": "light"
          }
        }
      ],
      "source": [
        "# Celda 2.2 - \"workingday\"=0 escriba su código y hallazgos \n",
        "bikes[bikes.workingday==0].groupby('hour').total.mean().plot()"
      ]
    },
    {
      "cell_type": "code",
      "execution_count": 58,
      "metadata": {
        "colab": {
          "base_uri": "https://localhost:8080/",
          "height": 297
        },
        "id": "P8G1HmomWZm6",
        "outputId": "4044ce6a-4d52-43d0-a827-ae6c8cdd0da3"
      },
      "outputs": [
        {
          "output_type": "execute_result",
          "data": {
            "text/plain": [
              "<matplotlib.axes._subplots.AxesSubplot at 0x7f10a70bc610>"
            ]
          },
          "metadata": {},
          "execution_count": 58
        },
        {
          "output_type": "display_data",
          "data": {
            "text/plain": [
              "<Figure size 432x288 with 1 Axes>"
            ],
            "image/png": "[encoded data removed]"
          },
          "metadata": {
            "needs_background": "light"
          }
        }
      ],
      "source": [
        "# Celda 2.3 - \"workingday\"=1 escriba su código y hallazgos \n",
        "bikes[bikes.workingday==1].groupby('hour').total.mean().plot()"
      ]
    },
    {
      "cell_type": "markdown",
      "metadata": {
        "id": "LHHTxJK_9vB7"
      },
      "source": [
        "Los días no laborales tienen un aumento gradual en la demanda de renta de bicicletas, encontrandose su maximo entre las 12 y las 17 horas, esto puede deberse al tiempo para recreación.\n",
        "\n",
        "En los días laborales hay dos picos en el día con aumento de la demanda de la renta de bicicletas, los cuales son entre 7-8 am y las 17-18 horas, lo cual puede estar relacionado a los horarios de destino para las actividades laborales y académicas. "
      ]
    },
    {
      "cell_type": "markdown",
      "metadata": {
        "id": "xbgA3FfyWZm7"
      },
      "source": [
        "### Punto 3 - Regresión lineal\n",
        "En la celda 3 ajuste un modelo de regresión lineal a todo el conjunto de datos, utilizando \"total\" como variable de respuesta y \"hour\" y \"workingday\" como las únicas variables predictoras. Luego, imprima los coeficientes e interprételos. ¿Cuáles son las limitaciones de la regresión lineal en este caso?"
      ]
    },
    {
      "cell_type": "code",
      "execution_count": 59,
      "metadata": {
        "colab": {
          "base_uri": "https://localhost:8080/"
        },
        "id": "F2AbpW_nAWUG",
        "outputId": "adcaea64-f296-4067-88d3-6798e382349f"
      },
      "outputs": [
        {
          "output_type": "stream",
          "name": "stdout",
          "text": [
            "MSE Regresion: 165.4817679274742\n",
            "R2: 0.15675683746149094\n",
            "Coeficientes: [[10.52404937  5.97715592]]\n",
            "Beta 0: [64.78367474]\n"
          ]
        }
      ],
      "source": [
        "# Celda 3\n",
        "\n",
        "X = bikes[['hour','workingday']]\n",
        "y = bikes[['total']]\n",
        "\n",
        "from sklearn.model_selection import train_test_split\n",
        "from sklearn import metrics\n",
        "\n",
        "X_train_reg, X_test_reg, y_train_reg, y_test_reg = train_test_split(X, y, test_size=0.3, random_state=0 )\n",
        "\n",
        "reg = LinearRegression().fit(X_train_reg,y_train_reg)\n",
        "y_pred = reg.predict(X_test_reg)\n",
        "\n",
        "print(\"MSE Regresion:\",np.sqrt(metrics.mean_squared_error(y_test_reg, y_pred)))\n",
        "print(\"R2:\",reg.score(X_test_reg, y_test_reg))\n",
        "print(\"Coeficientes:\", reg.coef_)\n",
        "print(\"Beta 0:\",reg.intercept_)"
      ]
    },
    {
      "cell_type": "markdown",
      "metadata": {
        "id": "zJne5TZJ93TI"
      },
      "source": [
        "Interpretación:\n",
        "Beta 1 = 10.5. Beta 2 = 5.9.\n",
        "Por cada hora que pasa en el día, el número total de bicicletas alquiladas aumenta en 10.5. En los días laborales se alquilan en promedio 5.9 bicicletas más con respecto a los días no laborales.\n",
        "\n",
        "Limitaciones: hay un comportamiento no lineal dado por los picos que ocurren durante el día y por la diferencia si es día laboral o no, por lo que las estimaciones de una regresión lineal no tendrán la mejor precisión, la cual espera que la variable aumente o disminuya."
      ]
    },
    {
      "cell_type": "markdown",
      "metadata": {
        "id": "5CnwjVpKWZm7"
      },
      "source": [
        "### Punto 4 - Árbol de decisión manual\n",
        "En la celda 4 cree un árbol de decisiones para pronosticar la variable \"total\" iterando **manualmente** sobre las variables \"hour\" y  \"workingday\". El árbol debe tener al menos 6 nodos finales."
      ]
    },
    {
      "cell_type": "code",
      "execution_count": 60,
      "metadata": {
        "id": "xrmFcY7YCJCG"
      },
      "outputs": [],
      "source": [
        "# Celda 4\n",
        "\n",
        "max_depth = None\n",
        "num_pct = 10\n",
        "max_features = None\n",
        "min_gain=0.001"
      ]
    },
    {
      "cell_type": "code",
      "execution_count": 61,
      "metadata": {
        "id": "Bcy23FAw-Hcq"
      },
      "outputs": [],
      "source": [
        "def calcular_mse(X_col, y, split):\n",
        "    \n",
        "    filter_l = X_col < split\n",
        "    y_l = y.loc[filter_l]\n",
        "    y_r = y.loc[~filter_l]\n",
        "    y_l = pd.DataFrame(y_l)\n",
        "    y_l['pred'] = y_l['total'].mean()\n",
        "    y_r = pd.DataFrame(y_r)\n",
        "    y_r['pred'] = y_r['total'].mean()\n",
        "\n",
        "    y_l_r = pd.concat([y_l,y_r])\n",
        "\n",
        "    mse = ((((y_l_r['total'] - y_l_r['pred'])**2).mean()) ** 0.5)\n",
        "\n",
        "    return mse"
      ]
    },
    {
      "cell_type": "code",
      "execution_count": 62,
      "metadata": {
        "id": "GBjjQYtm-aGm"
      },
      "outputs": [],
      "source": [
        "def best_split(X, y, num_pct=10):\n",
        "    \n",
        "    features = range(X.shape[1])\n",
        "    \n",
        "    best_split = [0, 0, 9999]  # j, split, mse\n",
        "    \n",
        "    for j in features:\n",
        "        \n",
        "        splits = np.percentile(X.iloc[:, j], np.arange(0, 100, 100.0 / (num_pct+1)).tolist())\n",
        "        splits = np.unique(splits)[1:]\n",
        "        \n",
        "        for split in splits:\n",
        "            mse = calcular_mse(X.iloc[:, j], y, split)\n",
        "                                   \n",
        "            if mse < best_split[2]:\n",
        "                best_split = [j, split, mse]\n",
        "                            \n",
        "    return best_split"
      ]
    },
    {
      "cell_type": "code",
      "execution_count": 63,
      "metadata": {
        "id": "mtpxl5SZ-cFm"
      },
      "outputs": [],
      "source": [
        "def tree_grow(X, y, level=0, max_mse=9998, max_depth=None, min_depth=6, num_pct=10):#\n",
        "    \n",
        "    if X.shape[0] == 1:\n",
        "        tree = dict(y_pred=y.iloc[:1].values[0], y_prob=0.5, level=level, split=-1, n_samples=1) #, max_mse=0\n",
        "        return tree\n",
        "    \n",
        "    j, split, mse = best_split(X, y, num_pct)\n",
        "    \n",
        "    y_pred = y.mean()\n",
        "\n",
        "\n",
        "    tree = dict(y_pred=y_pred, level=level, split=-1, n_samples=X.shape[0], mse=mse)\n",
        "    \n",
        "    if mse > max_mse:\n",
        "        return tree\n",
        "    if level <= min_depth:\n",
        "        pass    \n",
        "    elif max_depth is not None:\n",
        "        if level >= max_depth:\n",
        "            return tree   \n",
        "    \n",
        "    filter_l = X.iloc[:, j] < split\n",
        "    X_l, y_l = X.loc[filter_l], y.loc[filter_l]\n",
        "    X_r, y_r = X.loc[~filter_l], y.loc[~filter_l]\n",
        "    tree['split'] = [j, split]\n",
        "\n",
        "    tree['sr'] = tree_grow(X_r, y_r, level + 1, max_mse=max_mse, max_depth=max_depth, num_pct=num_pct) #\n",
        "    tree['sl'] = tree_grow(X_l, y_l, level + 1, max_mse=max_mse, max_depth=max_depth, num_pct=num_pct) #\n",
        "    \n",
        "    return tree"
      ]
    },
    {
      "cell_type": "code",
      "execution_count": 64,
      "metadata": {
        "colab": {
          "base_uri": "https://localhost:8080/"
        },
        "id": "QPXrBBBn-foE",
        "outputId": "3585f9cb-35b2-4089-dce1-a06e5ea55e90"
      },
      "outputs": [
        {
          "output_type": "execute_result",
          "data": {
            "text/plain": [
              "{'level': 0,\n",
              " 'mse': 154.21174597715677,\n",
              " 'n_samples': 7620,\n",
              " 'sl': {'level': 1,\n",
              "  'mse': 66.56308902171472,\n",
              "  'n_samples': 2529,\n",
              "  'sl': {'level': 2,\n",
              "   'mse': 35.55224594404588,\n",
              "   'n_samples': 2217,\n",
              "   'sl': {'level': 3,\n",
              "    'mse': 27.85631405051649,\n",
              "    'n_samples': 1890,\n",
              "    'sl': {'level': 4,\n",
              "     'mse': 31.299247719992135,\n",
              "     'n_samples': 647,\n",
              "     'sl': {'level': 5,\n",
              "      'mse': 41.421952167037674,\n",
              "      'n_samples': 210,\n",
              "      'sl': {'level': 6,\n",
              "       'mse': 9999,\n",
              "       'n_samples': 106,\n",
              "       'split': -1,\n",
              "       'y_pred': total    93.528302\n",
              "       dtype: float64},\n",
              "      'split': [0, 1.0],\n",
              "      'sr': {'level': 6,\n",
              "       'mse': 9999,\n",
              "       'n_samples': 104,\n",
              "       'split': -1,\n",
              "       'y_pred': total    73.759615\n",
              "       dtype: float64},\n",
              "      'y_pred': total    83.738095\n",
              "      dtype: float64},\n",
              "     'split': [1, 1.0],\n",
              "     'sr': {'level': 5,\n",
              "      'mse': 21.743342023137252,\n",
              "      'n_samples': 437,\n",
              "      'sl': {'level': 6,\n",
              "       'mse': 9999,\n",
              "       'n_samples': 218,\n",
              "       'split': -1,\n",
              "       'y_pred': total    37.224771\n",
              "       dtype: float64},\n",
              "      'split': [0, 1.0],\n",
              "      'sr': {'level': 6,\n",
              "       'mse': 9999,\n",
              "       'n_samples': 219,\n",
              "       'split': -1,\n",
              "       'y_pred': total    16.616438\n",
              "       dtype: float64},\n",
              "      'y_pred': total    26.897025\n",
              "      dtype: float64},\n",
              "     'y_pred': total    45.346213\n",
              "     dtype: float64},\n",
              "    'split': [0, 2.0],\n",
              "    'sr': {'level': 4,\n",
              "     'mse': 16.165952590484586,\n",
              "     'n_samples': 1243,\n",
              "     'sl': {'level': 5,\n",
              "      'mse': 16.49405153189371,\n",
              "      'n_samples': 404,\n",
              "      'sl': {'level': 6,\n",
              "       'mse': 9999,\n",
              "       'n_samples': 103,\n",
              "       'split': -1,\n",
              "       'y_pred': total    53.252427\n",
              "       dtype: float64},\n",
              "      'split': [0, 3.0],\n",
              "      'sr': {'level': 6,\n",
              "       'mse': 9.227137141807432,\n",
              "       'n_samples': 301,\n",
              "       'sl': {'level': 7,\n",
              "        'mse': 9999,\n",
              "        'n_samples': 100,\n",
              "        'split': -1,\n",
              "        'y_pred': total    24.82\n",
              "        dtype: float64},\n",
              "       'split': [0, 4.0],\n",
              "       'sr': {'level': 7,\n",
              "        'mse': 6.776579843067173,\n",
              "        'n_samples': 201,\n",
              "        'split': -1,\n",
              "        'y_pred': total    9.054726\n",
              "        dtype: float64},\n",
              "       'y_pred': total    14.292359\n",
              "       dtype: float64},\n",
              "      'y_pred': total    24.225248\n",
              "      dtype: float64},\n",
              "     'split': [1, 1.0],\n",
              "     'sr': {'level': 5,\n",
              "      'mse': 7.561911621707637,\n",
              "      'n_samples': 839,\n",
              "      'sl': {'level': 6,\n",
              "       'mse': 4.777181720925717,\n",
              "       'n_samples': 627,\n",
              "       'sl': {'level': 7,\n",
              "        'mse': 9999,\n",
              "        'n_samples': 214,\n",
              "        'split': -1,\n",
              "        'y_pred': total    8.233645\n",
              "        dtype: float64},\n",
              "       'split': [0, 3.0],\n",
              "       'sr': {'level': 7,\n",
              "        'mse': 3.1802985448965546,\n",
              "        'n_samples': 413,\n",
              "        'split': -1,\n",
              "        'y_pred': total    5.179177\n",
              "        dtype: float64},\n",
              "       'y_pred': total    6.221691\n",
              "       dtype: float64},\n",
              "      'split': [0, 5.0],\n",
              "      'sr': {'level': 6,\n",
              "       'mse': 9999,\n",
              "       'n_samples': 212,\n",
              "       'split': -1,\n",
              "       'y_pred': total    24.070755\n",
              "       dtype: float64},\n",
              "      'y_pred': total    10.731824\n",
              "      dtype: float64},\n",
              "     'y_pred': total    15.117458\n",
              "     dtype: float64},\n",
              "    'y_pred': total    25.465608\n",
              "    dtype: float64},\n",
              "   'split': [0, 6.0],\n",
              "   'sr': {'level': 3,\n",
              "    'mse': 38.43048677435898,\n",
              "    'n_samples': 327,\n",
              "    'sl': {'level': 4,\n",
              "     'mse': 9999,\n",
              "     'n_samples': 107,\n",
              "     'split': -1,\n",
              "     'y_pred': total    20.420561\n",
              "     dtype: float64},\n",
              "    'split': [1, 1.0],\n",
              "    'sr': {'level': 4,\n",
              "     'mse': 9999,\n",
              "     'n_samples': 220,\n",
              "     'split': -1,\n",
              "     'y_pred': total    100.690909\n",
              "     dtype: float64},\n",
              "    'y_pred': total    74.425076\n",
              "    dtype: float64},\n",
              "   'y_pred': total    32.686964\n",
              "   dtype: float64},\n",
              "  'split': [0, 7.0],\n",
              "  'sr': {'level': 2,\n",
              "   'mse': 109.83456557945303,\n",
              "   'n_samples': 312,\n",
              "   'sl': {'level': 3,\n",
              "    'mse': 9999,\n",
              "    'n_samples': 103,\n",
              "    'split': -1,\n",
              "    'y_pred': total    48.796117\n",
              "    dtype: float64},\n",
              "   'split': [1, 1.0],\n",
              "   'sr': {'level': 3,\n",
              "    'mse': 9999,\n",
              "    'n_samples': 209,\n",
              "    'split': -1,\n",
              "    'y_pred': total    288.69378\n",
              "    dtype: float64},\n",
              "   'y_pred': total    209.496795\n",
              "   dtype: float64},\n",
              "  'y_pred': total    54.499802\n",
              "  dtype: float64},\n",
              " 'split': [0, 8.0],\n",
              " 'sr': {'level': 1,\n",
              "  'mse': 167.20370604178945,\n",
              "  'n_samples': 5091,\n",
              "  'sl': {'level': 2,\n",
              "   'mse': 173.9551044253352,\n",
              "   'n_samples': 4134,\n",
              "   'sl': {'level': 3,\n",
              "    'mse': 148.25540392224184,\n",
              "    'n_samples': 2523,\n",
              "    'sl': {'level': 4,\n",
              "     'mse': 156.64874422916114,\n",
              "     'n_samples': 303,\n",
              "     'sl': {'level': 5,\n",
              "      'mse': 9999,\n",
              "      'n_samples': 94,\n",
              "      'split': -1,\n",
              "      'y_pred': total    114.957447\n",
              "      dtype: float64},\n",
              "     'split': [1, 1.0],\n",
              "     'sr': {'level': 5,\n",
              "      'mse': 9999,\n",
              "      'n_samples': 209,\n",
              "      'split': -1,\n",
              "      'y_pred': total    483.564593\n",
              "      dtype: float64},\n",
              "     'y_pred': total    369.211221\n",
              "     dtype: float64},\n",
              "    'split': [0, 9.0],\n",
              "    'sr': {'level': 4,\n",
              "     'mse': 116.3266961799313,\n",
              "     'n_samples': 2220,\n",
              "     'sl': {'level': 5,\n",
              "      'mse': 149.65829571929842,\n",
              "      'n_samples': 684,\n",
              "      'sl': {'level': 6,\n",
              "       'mse': 106.2594021415936,\n",
              "       'n_samples': 191,\n",
              "       'sl': {'level': 7,\n",
              "        'mse': 9999,\n",
              "        'n_samples': 90,\n",
              "        'split': -1,\n",
              "        'y_pred': total    176.055556\n",
              "        dtype: float64},\n",
              "       'split': [0, 10.0],\n",
              "       'sr': {'level': 7,\n",
              "        'mse': 9999,\n",
              "        'n_samples': 101,\n",
              "        'split': -1,\n",
              "        'y_pred': total    259.039604\n",
              "        dtype: float64},\n",
              "       'y_pred': total    219.937173\n",
              "       dtype: float64},\n",
              "      'split': [0, 11.0],\n",
              "      'sr': {'level': 6,\n",
              "       'mse': 159.84771357253751,\n",
              "       'n_samples': 493,\n",
              "       'sl': {'level': 7,\n",
              "        'mse': 9999,\n",
              "        'n_samples': 89,\n",
              "        'split': -1,\n",
              "        'y_pred': total    319.089888\n",
              "        dtype: float64},\n",
              "       'split': [0, 12.0],\n",
              "       'sr': {'level': 7,\n",
              "        'mse': 163.67010021563706,\n",
              "        'n_samples': 404,\n",
              "        'split': -1,\n",
              "        'y_pred': total    376.316832\n",
              "        dtype: float64},\n",
              "       'y_pred': total    365.985801\n",
              "       dtype: float64},\n",
              "      'y_pred': total    325.203216\n",
              "      dtype: float64},\n",
              "     'split': [1, 1.0],\n",
              "     'sr': {'level': 5,\n",
              "      'mse': 84.31936219103127,\n",
              "      'n_samples': 1536,\n",
              "      'sl': {'level': 6,\n",
              "       'mse': 9999,\n",
              "       'n_samples': 223,\n",
              "       'split': -1,\n",
              "       'y_pred': total    243.556054\n",
              "       dtype: float64},\n",
              "      'split': [0, 10.0],\n",
              "      'sr': {'level': 6,\n",
              "       'mse': 80.305199399703,\n",
              "       'n_samples': 1313,\n",
              "       'sl': {'level': 7,\n",
              "        'mse': 62.462864232004115,\n",
              "        'n_samples': 447,\n",
              "        'split': -1,\n",
              "        'y_pred': total    142.073826\n",
              "        dtype: float64},\n",
              "       'split': [0, 12.0],\n",
              "       'sr': {'level': 7,\n",
              "        'mse': 87.62160188124471,\n",
              "        'n_samples': 866,\n",
              "        'split': -1,\n",
              "        'y_pred': total    193.872979\n",
              "        dtype: float64},\n",
              "       'y_pred': total    176.238385\n",
              "       dtype: float64},\n",
              "      'y_pred': total    186.011719\n",
              "      dtype: float64},\n",
              "     'y_pred': total    228.897748\n",
              "     dtype: float64},\n",
              "    'y_pred': total    245.748712\n",
              "    dtype: float64},\n",
              "   'split': [0, 16.0],\n",
              "   'sr': {'level': 3,\n",
              "    'mse': 188.20621389065982,\n",
              "    'n_samples': 1611,\n",
              "    'sl': {'level': 4,\n",
              "     'mse': 202.26784693110338,\n",
              "     'n_samples': 971,\n",
              "     'sl': {'level': 5,\n",
              "      'mse': 143.3174166298073,\n",
              "      'n_samples': 309,\n",
              "      'sl': {'level': 6,\n",
              "       'mse': 9999,\n",
              "       'n_samples': 97,\n",
              "       'split': -1,\n",
              "       'y_pred': total    363.082474\n",
              "       dtype: float64},\n",
              "      'split': [1, 1.0],\n",
              "      'sr': {'level': 6,\n",
              "       'mse': 9999,\n",
              "       'n_samples': 212,\n",
              "       'split': -1,\n",
              "       'y_pred': total    284.650943\n",
              "       dtype: float64},\n",
              "      'y_pred': total    309.271845\n",
              "      dtype: float64},\n",
              "     'split': [0, 17.0],\n",
              "     'sr': {'level': 5,\n",
              "      'mse': 204.337301080704,\n",
              "      'n_samples': 662,\n",
              "      'sl': {'level': 6,\n",
              "       'mse': 156.0846354290607,\n",
              "       'n_samples': 208,\n",
              "       'sl': {'level': 7,\n",
              "        'mse': 9999,\n",
              "        'n_samples': 100,\n",
              "        'split': -1,\n",
              "        'y_pred': total    339.1\n",
              "        dtype: float64},\n",
              "       'split': [0, 18.0],\n",
              "       'sr': {'level': 7,\n",
              "        'mse': 9999,\n",
              "        'n_samples': 108,\n",
              "        'split': -1,\n",
              "        'y_pred': total    303.009259\n",
              "        dtype: float64},\n",
              "       'y_pred': total    320.360577\n",
              "       dtype: float64},\n",
              "      'split': [1, 1.0],\n",
              "      'sr': {'level': 6,\n",
              "       'mse': 222.1999183247015,\n",
              "       'n_samples': 454,\n",
              "       'sl': {'level': 7,\n",
              "        'mse': 9999,\n",
              "        'n_samples': 234,\n",
              "        'split': -1,\n",
              "        'y_pred': total    527.34188\n",
              "        dtype: float64},\n",
              "       'split': [0, 18.0],\n",
              "       'sr': {'level': 7,\n",
              "        'mse': 9999,\n",
              "        'n_samples': 220,\n",
              "        'split': -1,\n",
              "        'y_pred': total    499.059091\n",
              "        dtype: float64},\n",
              "       'y_pred': total    513.636564\n",
              "       dtype: float64},\n",
              "      'y_pred': total    452.909366\n",
              "      dtype: float64},\n",
              "     'y_pred': total    407.199794\n",
              "     dtype: float64},\n",
              "    'split': [0, 19.0],\n",
              "    'sr': {'level': 4,\n",
              "     'mse': 136.1852316324526,\n",
              "     'n_samples': 640,\n",
              "     'sl': {'level': 5,\n",
              "      'mse': 148.9588210116416,\n",
              "      'n_samples': 317,\n",
              "      'sl': {'level': 6,\n",
              "       'mse': 9999,\n",
              "       'n_samples': 105,\n",
              "       'split': -1,\n",
              "       'y_pred': total    245.019048\n",
              "       dtype: float64},\n",
              "      'split': [1, 1.0],\n",
              "      'sr': {'level': 6,\n",
              "       'mse': 9999,\n",
              "       'n_samples': 212,\n",
              "       'split': -1,\n",
              "       'y_pred': total    344.627358\n",
              "       dtype: float64},\n",
              "      'y_pred': total    311.634069\n",
              "      dtype: float64},\n",
              "     'split': [0, 20.0],\n",
              "     'sr': {'level': 5,\n",
              "      'mse': 108.4496401315484,\n",
              "      'n_samples': 323,\n",
              "      'sl': {'level': 6,\n",
              "       'mse': 9999,\n",
              "       'n_samples': 102,\n",
              "       'split': -1,\n",
              "       'y_pred': total    180.107843\n",
              "       dtype: float64},\n",
              "      'split': [1, 1.0],\n",
              "      'sr': {'level': 6,\n",
              "       'mse': 9999,\n",
              "       'n_samples': 221,\n",
              "       'split': -1,\n",
              "       'y_pred': total    249.932127\n",
              "       dtype: float64},\n",
              "      'y_pred': total    227.882353\n",
              "      dtype: float64},\n",
              "     'y_pred': total    269.365625\n",
              "     dtype: float64},\n",
              "    'y_pred': total    352.442582\n",
              "    dtype: float64},\n",
              "   'y_pred': total    287.326802\n",
              "   dtype: float64},\n",
              "  'split': [0, 21.0],\n",
              "  'sr': {'level': 2,\n",
              "   'mse': 73.11353945691789,\n",
              "   'n_samples': 957,\n",
              "   'sl': {'level': 3,\n",
              "    'mse': 85.94480552547664,\n",
              "    'n_samples': 316,\n",
              "    'sl': {'level': 4,\n",
              "     'mse': 9999,\n",
              "     'n_samples': 100,\n",
              "     'split': -1,\n",
              "     'y_pred': total    149.66\n",
              "     dtype: float64},\n",
              "    'split': [1, 1.0],\n",
              "    'sr': {'level': 4,\n",
              "     'mse': 9999,\n",
              "     'n_samples': 216,\n",
              "     'split': -1,\n",
              "     'y_pred': total    186.314815\n",
              "     dtype: float64},\n",
              "    'y_pred': total    174.71519\n",
              "    dtype: float64},\n",
              "   'split': [0, 22.0],\n",
              "   'sr': {'level': 3,\n",
              "    'mse': 61.8046032272584,\n",
              "    'n_samples': 641,\n",
              "    'sl': {'level': 4,\n",
              "     'mse': 70.17770189364707,\n",
              "     'n_samples': 320,\n",
              "     'sl': {'level': 5,\n",
              "      'mse': 9999,\n",
              "      'n_samples': 110,\n",
              "      'split': -1,\n",
              "      'y_pred': total    120.863636\n",
              "      dtype: float64},\n",
              "     'split': [1, 1.0],\n",
              "     'sr': {'level': 5,\n",
              "      'mse': 9999,\n",
              "      'n_samples': 210,\n",
              "      'split': -1,\n",
              "      'y_pred': total    131.795238\n",
              "      dtype: float64},\n",
              "     'y_pred': total    128.0375\n",
              "     dtype: float64},\n",
              "    'split': [0, 23.0],\n",
              "    'sr': {'level': 4,\n",
              "     'mse': 51.79283517099575,\n",
              "     'n_samples': 321,\n",
              "     'sl': {'level': 5,\n",
              "      'mse': 9999,\n",
              "      'n_samples': 102,\n",
              "      'split': -1,\n",
              "      'y_pred': total    93.578431\n",
              "      dtype: float64},\n",
              "     'split': [1, 1.0],\n",
              "     'sr': {'level': 5,\n",
              "      'mse': 9999,\n",
              "      'n_samples': 219,\n",
              "      'split': -1,\n",
              "      'y_pred': total    87.214612\n",
              "      dtype: float64},\n",
              "     'y_pred': total    89.23676\n",
              "     dtype: float64},\n",
              "    'y_pred': total    108.606864\n",
              "    dtype: float64},\n",
              "   'y_pred': total    130.435737\n",
              "   dtype: float64},\n",
              "  'y_pred': total    257.83461\n",
              "  dtype: float64},\n",
              " 'y_pred': total    190.349869\n",
              " dtype: float64}"
            ]
          },
          "metadata": {},
          "execution_count": 64
        }
      ],
      "source": [
        "tree = tree_grow(X_train_reg, y_train_reg, max_mse=9998, level=0, max_depth=3, num_pct=10)\n",
        "tree"
      ]
    },
    {
      "cell_type": "markdown",
      "metadata": {
        "id": "UpTD53nCzdz7"
      },
      "source": [
        "Se crea de forma manual un árbol de decisión, el cual itera sobre las variables \"hour\" y \"workingday\" y tiene al menos seis nodos al definir min_depth=6."
      ]
    },
    {
      "cell_type": "markdown",
      "metadata": {
        "id": "02Xfl5-3WZm8"
      },
      "source": [
        "### Punto 5 - Árbol de decisión con librería\n",
        "En la celda 5 entrene un árbol de decisiones con la **librería sklearn**, usando las variables predictoras \"hour\" y \"workingday\" y calibre los parámetros que considere conveniente para obtener un mejor desempeño. Comente el desempeño del modelo con alguna métrica de desempeño de modelos de clasificación y compare desempeño con el modelo del punto 3."
      ]
    },
    {
      "cell_type": "code",
      "execution_count": 65,
      "metadata": {
        "id": "kSXN8tuTWZm8"
      },
      "outputs": [],
      "source": [
        "# Celda 5\n",
        "max_depth_range = range(1, 21)\n",
        "\n",
        "rmse_scores = []\n",
        "\n",
        "for depth in max_depth_range:\n",
        "    clf = DecisionTreeRegressor(max_depth=depth, random_state=1)\n",
        "    scores = cross_val_score(clf, X, y, cv=10, scoring='neg_mean_squared_error').mean()\n",
        "    rmse_scores.append(np.mean(np.sqrt(-scores)))"
      ]
    },
    {
      "cell_type": "code",
      "execution_count": 66,
      "metadata": {
        "colab": {
          "base_uri": "https://localhost:8080/",
          "height": 298
        },
        "id": "v0WwaQ7W_HEq",
        "outputId": "b2ad0366-b09d-4925-9a0e-5ea78fa45f06"
      },
      "outputs": [
        {
          "output_type": "execute_result",
          "data": {
            "text/plain": [
              "Text(0, 0.5, 'rmse_scores')"
            ]
          },
          "metadata": {},
          "execution_count": 66
        },
        {
          "output_type": "display_data",
          "data": {
            "text/plain": [
              "<Figure size 432x288 with 1 Axes>"
            ],
            "image/png": "[encoded data removed]"
          },
          "metadata": {
            "needs_background": "light"
          }
        }
      ],
      "source": [
        "plt.plot(max_depth_range, rmse_scores)\n",
        "plt.xlabel('max_depth')\n",
        "plt.ylabel('rmse_scores')"
      ]
    },
    {
      "cell_type": "code",
      "execution_count": 67,
      "metadata": {
        "colab": {
          "base_uri": "https://localhost:8080/"
        },
        "id": "nGZtOddUNE4i",
        "outputId": "2a3c71a1-a05a-4f97-ffa6-b5a93f97ece6"
      },
      "outputs": [
        {
          "output_type": "execute_result",
          "data": {
            "text/plain": [
              "(154.91625364883495, 1)"
            ]
          },
          "metadata": {},
          "execution_count": 67
        }
      ],
      "source": [
        "sorted(zip(rmse_scores, max_depth_range))[::-1][0]"
      ]
    },
    {
      "cell_type": "code",
      "execution_count": 68,
      "metadata": {
        "colab": {
          "base_uri": "https://localhost:8080/"
        },
        "id": "TlWOwN9COf1a",
        "outputId": "8f9cd66f-c252-42a7-d669-f076c3c8fe34"
      },
      "outputs": [
        {
          "output_type": "execute_result",
          "data": {
            "text/plain": [
              "DecisionTreeRegressor(max_depth=7, random_state=1)"
            ]
          },
          "metadata": {},
          "execution_count": 68
        }
      ],
      "source": [
        "clf = DecisionTreeRegressor(max_depth=7, random_state=1)\n",
        "clf.fit(X, y)"
      ]
    },
    {
      "cell_type": "code",
      "execution_count": 69,
      "metadata": {
        "colab": {
          "base_uri": "https://localhost:8080/"
        },
        "id": "LgAtWn9A_KjF",
        "outputId": "fa1d67f2-399a-4bd9-8601-50a1c3e454ec"
      },
      "outputs": [
        {
          "output_type": "stream",
          "name": "stdout",
          "text": [
            "114.70302272002844\n"
          ]
        }
      ],
      "source": [
        "print(rmse_scores[6])"
      ]
    },
    {
      "cell_type": "markdown",
      "metadata": {
        "id": "vay0GSlu_NFe"
      },
      "source": [
        "El mejor desempeño se obtiene cuando el árbol cuenta con una profundidad de máxima de 7. El MSE es de 114.7 mejor respecto a la regresión lineal de 165.4.\n",
        "\n"
      ]
    },
    {
      "cell_type": "markdown",
      "metadata": {
        "id": "npPs23P3WZm9"
      },
      "source": [
        "## Parte B - Métodos de ensamblajes\n",
        "En esta parte del taller se usará el conjunto de datos de Popularidad de Noticias Online. El objetivo es predecir la cantidad de reacciones en redes sociales (popularidad) de la notica. Para más detalles puede visitar el sigueinte enlace: [datos](https://archive.ics.uci.edu/ml/datasets/online+news+popularity)."
      ]
    },
    {
      "cell_type": "markdown",
      "metadata": {
        "id": "GUFscWU1WZm9"
      },
      "source": [
        "### Datos popularidad de noticias"
      ]
    },
    {
      "cell_type": "code",
      "execution_count": 70,
      "metadata": {
        "colab": {
          "base_uri": "https://localhost:8080/",
          "height": 386
        },
        "id": "zXMiiW50WZm9",
        "outputId": "877c1d94-ebd3-4f5d-d7c4-1721826e4441"
      },
      "outputs": [
        {
          "output_type": "execute_result",
          "data": {
            "text/plain": [
              "                                                 url  timedelta  \\\n",
              "0  http://mashable.com/2014/12/10/cia-torture-rep...       28.0   \n",
              "1  http://mashable.com/2013/10/18/bitlock-kicksta...      447.0   \n",
              "2  http://mashable.com/2013/07/24/google-glass-po...      533.0   \n",
              "3  http://mashable.com/2013/11/21/these-are-the-m...      413.0   \n",
              "4  http://mashable.com/2014/02/11/parking-ticket-...      331.0   \n",
              "\n",
              "   n_tokens_title  n_tokens_content  n_unique_tokens  n_non_stop_words  \\\n",
              "0             9.0             188.0         0.732620               1.0   \n",
              "1             7.0             297.0         0.653199               1.0   \n",
              "2            11.0             181.0         0.660377               1.0   \n",
              "3            12.0             781.0         0.497409               1.0   \n",
              "4             8.0             177.0         0.685714               1.0   \n",
              "\n",
              "   n_non_stop_unique_tokens  num_hrefs  num_self_hrefs  num_imgs  ...  \\\n",
              "0                  0.844262        5.0             1.0       1.0  ...   \n",
              "1                  0.815789        9.0             4.0       1.0  ...   \n",
              "2                  0.775701        4.0             3.0       1.0  ...   \n",
              "3                  0.677350       10.0             3.0       1.0  ...   \n",
              "4                  0.830357        3.0             2.0       1.0  ...   \n",
              "\n",
              "   min_positive_polarity  max_positive_polarity  avg_negative_polarity  \\\n",
              "0               0.200000                   0.80              -0.487500   \n",
              "1               0.160000                   0.50              -0.135340   \n",
              "2               0.136364                   1.00               0.000000   \n",
              "3               0.100000                   1.00              -0.195701   \n",
              "4               0.100000                   0.55              -0.175000   \n",
              "\n",
              "   min_negative_polarity  max_negative_polarity  title_subjectivity  \\\n",
              "0                  -0.60              -0.250000                 0.9   \n",
              "1                  -0.40              -0.050000                 0.1   \n",
              "2                   0.00               0.000000                 0.3   \n",
              "3                  -0.40              -0.071429                 0.0   \n",
              "4                  -0.25              -0.100000                 0.0   \n",
              "\n",
              "   title_sentiment_polarity  abs_title_subjectivity  \\\n",
              "0                       0.8                     0.4   \n",
              "1                      -0.1                     0.4   \n",
              "2                       1.0                     0.2   \n",
              "3                       0.0                     0.5   \n",
              "4                       0.0                     0.5   \n",
              "\n",
              "   abs_title_sentiment_polarity  Popular  \n",
              "0                           0.8        1  \n",
              "1                           0.1        0  \n",
              "2                           1.0        0  \n",
              "3                           0.0        0  \n",
              "4                           0.0        0  \n",
              "\n",
              "[5 rows x 61 columns]"
            ],
            "text/html": [
              "\n",
              "  <div id=\"df-b55d7478-fd9f-421b-9d42-baf3e3dfee2f\">\n",
              "    <div class=\"colab-df-container\">\n",
              "      <div>\n",
              "<style scoped>\n",
              "    .dataframe tbody tr th:only-of-type {\n",
              "        vertical-align: middle;\n",
              "    }\n",
              "\n",
              "    .dataframe tbody tr th {\n",
              "        vertical-align: top;\n",
              "    }\n",
              "\n",
              "    .dataframe thead th {\n",
              "        text-align: right;\n",
              "    }\n",
              "</style>\n",
              "<table border=\"1\" class=\"dataframe\">\n",
              "  <thead>\n",
              "    <tr style=\"text-align: right;\">\n",
              "      <th></th>\n",
              "      <th>url</th>\n",
              "      <th>timedelta</th>\n",
              "      <th>n_tokens_title</th>\n",
              "      <th>n_tokens_content</th>\n",
              "      <th>n_unique_tokens</th>\n",
              "      <th>n_non_stop_words</th>\n",
              "      <th>n_non_stop_unique_tokens</th>\n",
              "      <th>num_hrefs</th>\n",
              "      <th>num_self_hrefs</th>\n",
              "      <th>num_imgs</th>\n",
              "      <th>...</th>\n",
              "      <th>min_positive_polarity</th>\n",
              "      <th>max_positive_polarity</th>\n",
              "      <th>avg_negative_polarity</th>\n",
              "      <th>min_negative_polarity</th>\n",
              "      <th>max_negative_polarity</th>\n",
              "      <th>title_subjectivity</th>\n",
              "      <th>title_sentiment_polarity</th>\n",
              "      <th>abs_title_subjectivity</th>\n",
              "      <th>abs_title_sentiment_polarity</th>\n",
              "      <th>Popular</th>\n",
              "    </tr>\n",
              "  </thead>\n",
              "  <tbody>\n",
              "    <tr>\n",
              "      <th>0</th>\n",
              "      <td>http://mashable.com/2014/12/10/cia-torture-rep...</td>\n",
              "      <td>28.0</td>\n",
              "      <td>9.0</td>\n",
              "      <td>188.0</td>\n",
              "      <td>0.732620</td>\n",
              "      <td>1.0</td>\n",
              "      <td>0.844262</td>\n",
              "      <td>5.0</td>\n",
              "      <td>1.0</td>\n",
              "      <td>1.0</td>\n",
              "      <td>...</td>\n",
              "      <td>0.200000</td>\n",
              "      <td>0.80</td>\n",
              "      <td>-0.487500</td>\n",
              "      <td>-0.60</td>\n",
              "      <td>-0.250000</td>\n",
              "      <td>0.9</td>\n",
              "      <td>0.8</td>\n",
              "      <td>0.4</td>\n",
              "      <td>0.8</td>\n",
              "      <td>1</td>\n",
              "    </tr>\n",
              "    <tr>\n",
              "      <th>1</th>\n",
              "      <td>http://mashable.com/2013/10/18/bitlock-kicksta...</td>\n",
              "      <td>447.0</td>\n",
              "      <td>7.0</td>\n",
              "      <td>297.0</td>\n",
              "      <td>0.653199</td>\n",
              "      <td>1.0</td>\n",
              "      <td>0.815789</td>\n",
              "      <td>9.0</td>\n",
              "      <td>4.0</td>\n",
              "      <td>1.0</td>\n",
              "      <td>...</td>\n",
              "      <td>0.160000</td>\n",
              "      <td>0.50</td>\n",
              "      <td>-0.135340</td>\n",
              "      <td>-0.40</td>\n",
              "      <td>-0.050000</td>\n",
              "      <td>0.1</td>\n",
              "      <td>-0.1</td>\n",
              "      <td>0.4</td>\n",
              "      <td>0.1</td>\n",
              "      <td>0</td>\n",
              "    </tr>\n",
              "    <tr>\n",
              "      <th>2</th>\n",
              "      <td>http://mashable.com/2013/07/24/google-glass-po...</td>\n",
              "      <td>533.0</td>\n",
              "      <td>11.0</td>\n",
              "      <td>181.0</td>\n",
              "      <td>0.660377</td>\n",
              "      <td>1.0</td>\n",
              "      <td>0.775701</td>\n",
              "      <td>4.0</td>\n",
              "      <td>3.0</td>\n",
              "      <td>1.0</td>\n",
              "      <td>...</td>\n",
              "      <td>0.136364</td>\n",
              "      <td>1.00</td>\n",
              "      <td>0.000000</td>\n",
              "      <td>0.00</td>\n",
              "      <td>0.000000</td>\n",
              "      <td>0.3</td>\n",
              "      <td>1.0</td>\n",
              "      <td>0.2</td>\n",
              "      <td>1.0</td>\n",
              "      <td>0</td>\n",
              "    </tr>\n",
              "    <tr>\n",
              "      <th>3</th>\n",
              "      <td>http://mashable.com/2013/11/21/these-are-the-m...</td>\n",
              "      <td>413.0</td>\n",
              "      <td>12.0</td>\n",
              "      <td>781.0</td>\n",
              "      <td>0.497409</td>\n",
              "      <td>1.0</td>\n",
              "      <td>0.677350</td>\n",
              "      <td>10.0</td>\n",
              "      <td>3.0</td>\n",
              "      <td>1.0</td>\n",
              "      <td>...</td>\n",
              "      <td>0.100000</td>\n",
              "      <td>1.00</td>\n",
              "      <td>-0.195701</td>\n",
              "      <td>-0.40</td>\n",
              "      <td>-0.071429</td>\n",
              "      <td>0.0</td>\n",
              "      <td>0.0</td>\n",
              "      <td>0.5</td>\n",
              "      <td>0.0</td>\n",
              "      <td>0</td>\n",
              "    </tr>\n",
              "    <tr>\n",
              "      <th>4</th>\n",
              "      <td>http://mashable.com/2014/02/11/parking-ticket-...</td>\n",
              "      <td>331.0</td>\n",
              "      <td>8.0</td>\n",
              "      <td>177.0</td>\n",
              "      <td>0.685714</td>\n",
              "      <td>1.0</td>\n",
              "      <td>0.830357</td>\n",
              "      <td>3.0</td>\n",
              "      <td>2.0</td>\n",
              "      <td>1.0</td>\n",
              "      <td>...</td>\n",
              "      <td>0.100000</td>\n",
              "      <td>0.55</td>\n",
              "      <td>-0.175000</td>\n",
              "      <td>-0.25</td>\n",
              "      <td>-0.100000</td>\n",
              "      <td>0.0</td>\n",
              "      <td>0.0</td>\n",
              "      <td>0.5</td>\n",
              "      <td>0.0</td>\n",
              "      <td>0</td>\n",
              "    </tr>\n",
              "  </tbody>\n",
              "</table>\n",
              "<p>5 rows × 61 columns</p>\n",
              "</div>\n",
              "      <button class=\"colab-df-convert\" onclick=\"convertToInteractive('df-b55d7478-fd9f-421b-9d42-baf3e3dfee2f')\"\n",
              "              title=\"Convert this dataframe to an interactive table.\"\n",
              "              style=\"display:none;\">\n",
              "        \n",
              "  <svg xmlns=\"http://www.w3.org/2000/svg\" height=\"24px\"viewBox=\"0 0 24 24\"\n",
              "       width=\"24px\">\n",
              "    <path d=\"M0 0h24v24H0V0z\" fill=\"none\"/>\n",
              "    <path d=\"M18.56 5.44l.94 2.06.94-2.06 2.06-.94-2.06-.94-.94-2.06-.94 2.06-2.06.94zm-11 1L8.5 8.5l.94-2.06 2.06-.94-2.06-.94L8.5 2.5l-.94 2.06-2.06.94zm10 10l.94 2.06.94-2.06 2.06-.94-2.06-.94-.94-2.06-.94 2.06-2.06.94z\"/><path d=\"M17.41 7.96l-1.37-1.37c-.4-.4-.92-.59-1.43-.59-.52 0-1.04.2-1.43.59L10.3 9.45l-7.72 7.72c-.78.78-.78 2.05 0 2.83L4 21.41c.39.39.9.59 1.41.59.51 0 1.02-.2 1.41-.59l7.78-7.78 2.81-2.81c.8-.78.8-2.07 0-2.86zM5.41 20L4 18.59l7.72-7.72 1.47 1.35L5.41 20z\"/>\n",
              "  </svg>\n",
              "      </button>\n",
              "      \n",
              "  <style>\n",
              "    .colab-df-container {\n",
              "      display:flex;\n",
              "      flex-wrap:wrap;\n",
              "      gap: 12px;\n",
              "    }\n",
              "\n",
              "    .colab-df-convert {\n",
              "      background-color: #E8F0FE;\n",
              "      border: none;\n",
              "      border-radius: 50%;\n",
              "      cursor: pointer;\n",
              "      display: none;\n",
              "      fill: #1967D2;\n",
              "      height: 32px;\n",
              "      padding: 0 0 0 0;\n",
              "      width: 32px;\n",
              "    }\n",
              "\n",
              "    .colab-df-convert:hover {\n",
              "      background-color: #E2EBFA;\n",
              "      box-shadow: 0px 1px 2px rgba(60, 64, 67, 0.3), 0px 1px 3px 1px rgba(60, 64, 67, 0.15);\n",
              "      fill: #174EA6;\n",
              "    }\n",
              "\n",
              "    [theme=dark] .colab-df-convert {\n",
              "      background-color: #3B4455;\n",
              "      fill: #D2E3FC;\n",
              "    }\n",
              "\n",
              "    [theme=dark] .colab-df-convert:hover {\n",
              "      background-color: #434B5C;\n",
              "      box-shadow: 0px 1px 3px 1px rgba(0, 0, 0, 0.15);\n",
              "      filter: drop-shadow(0px 1px 2px rgba(0, 0, 0, 0.3));\n",
              "      fill: #FFFFFF;\n",
              "    }\n",
              "  </style>\n",
              "\n",
              "      <script>\n",
              "        const buttonEl =\n",
              "          document.querySelector('#df-b55d7478-fd9f-421b-9d42-baf3e3dfee2f button.colab-df-convert');\n",
              "        buttonEl.style.display =\n",
              "          google.colab.kernel.accessAllowed ? 'block' : 'none';\n",
              "\n",
              "        async function convertToInteractive(key) {\n",
              "          const element = document.querySelector('#df-b55d7478-fd9f-421b-9d42-baf3e3dfee2f');\n",
              "          const dataTable =\n",
              "            await google.colab.kernel.invokeFunction('convertToInteractive',\n",
              "                                                     [key], {});\n",
              "          if (!dataTable) return;\n",
              "\n",
              "          const docLinkHtml = 'Like what you see? Visit the ' +\n",
              "            '<a target=\"_blank\" href=https://colab.research.google.com/notebooks/data_table.ipynb>data table notebook</a>'\n",
              "            + ' to learn more about interactive tables.';\n",
              "          element.innerHTML = '';\n",
              "          dataTable['output_type'] = 'display_data';\n",
              "          await google.colab.output.renderOutput(dataTable, element);\n",
              "          const docLink = document.createElement('div');\n",
              "          docLink.innerHTML = docLinkHtml;\n",
              "          element.appendChild(docLink);\n",
              "        }\n",
              "      </script>\n",
              "    </div>\n",
              "  </div>\n",
              "  "
            ]
          },
          "metadata": {},
          "execution_count": 70
        }
      ],
      "source": [
        "# Lectura de la información de archivo .csv\n",
        "df = pd.read_csv('https://raw.githubusercontent.com/albahnsen/MIAD_ML_and_NLP/main/datasets/mashable.csv', index_col=0)\n",
        "df.head()"
      ]
    },
    {
      "cell_type": "code",
      "execution_count": 71,
      "metadata": {
        "colab": {
          "base_uri": "https://localhost:8080/"
        },
        "id": "SwT2L3-oWZm9",
        "outputId": "3cae9614-f35e-4d05-c4c3-14cb2666c781"
      },
      "outputs": [
        {
          "output_type": "execute_result",
          "data": {
            "text/plain": [
              "0.5"
            ]
          },
          "metadata": {},
          "execution_count": 71
        }
      ],
      "source": [
        "# Definición variable de interes y variables predictoras\n",
        "X = df.drop(['url', 'Popular'], axis=1)\n",
        "y = df['Popular']\n",
        "y.mean()"
      ]
    },
    {
      "cell_type": "code",
      "execution_count": 72,
      "metadata": {
        "id": "43QfU72RWZm-"
      },
      "outputs": [],
      "source": [
        "# División de la muestra en set de entrenamiento y prueba\n",
        "from sklearn.model_selection import train_test_split\n",
        "X_train, X_test, y_train, y_test = train_test_split(X, y, random_state=1)"
      ]
    },
    {
      "cell_type": "markdown",
      "metadata": {
        "id": "hmnHLLxXWZm-"
      },
      "source": [
        "### Punto 6 - Árbol de decisión y regresión logística\n",
        "En la celda 6 construya un árbol de decisión y una regresión logística. Para el árbol calibre al menos un parámetro y evalúe el desempeño de cada modelo usando las métricas de Accuracy y F1-Score."
      ]
    },
    {
      "cell_type": "code",
      "execution_count": 73,
      "metadata": {
        "id": "bYkbVesnWZm-"
      },
      "outputs": [],
      "source": [
        "# Celda 6\n",
        "max_depth_range = range(1, 21)\n",
        "\n",
        "accuracy_scores = []\n",
        "\n",
        "for depth in max_depth_range:\n",
        "    clf = DecisionTreeClassifier(max_depth=depth, random_state=1)\n",
        "    accuracy_scores.append(cross_val_score(clf, X_train, y_train, cv=10, scoring='accuracy').mean())"
      ]
    },
    {
      "cell_type": "code",
      "execution_count": 74,
      "metadata": {
        "colab": {
          "base_uri": "https://localhost:8080/",
          "height": 298
        },
        "id": "l1GQugFb_e4D",
        "outputId": "bc6158eb-c7c9-4bc3-e73f-12402311276c"
      },
      "outputs": [
        {
          "output_type": "execute_result",
          "data": {
            "text/plain": [
              "Text(0, 0.5, 'Accuracy')"
            ]
          },
          "metadata": {},
          "execution_count": 74
        },
        {
          "output_type": "display_data",
          "data": {
            "text/plain": [
              "<Figure size 432x288 with 1 Axes>"
            ],
            "image/png": "[encoded data removed]"
          },
          "metadata": {
            "needs_background": "light"
          }
        }
      ],
      "source": [
        "# plot max_depth (x-axis) versus RMSE (y-axis)\n",
        "plt.plot(max_depth_range, accuracy_scores)\n",
        "plt.xlabel('max_depth')\n",
        "plt.ylabel('Accuracy')"
      ]
    },
    {
      "cell_type": "code",
      "execution_count": 75,
      "metadata": {
        "colab": {
          "base_uri": "https://localhost:8080/"
        },
        "id": "McvuhgZL_ixG",
        "outputId": "2f74a0d7-f1f4-49fa-b8ed-10b9d7ffcb22"
      },
      "outputs": [
        {
          "output_type": "execute_result",
          "data": {
            "text/plain": [
              "(0.6308888888888888, 2)"
            ]
          },
          "metadata": {},
          "execution_count": 75
        }
      ],
      "source": [
        "sorted(zip(accuracy_scores, max_depth_range))[::-1][0]"
      ]
    },
    {
      "cell_type": "markdown",
      "metadata": {
        "id": "XkqV39BL_ogl"
      },
      "source": [
        "El mejor desempeño del modelo seria con un accuracy de 0.63 y una profundidad máxima de 2."
      ]
    },
    {
      "cell_type": "code",
      "execution_count": 76,
      "metadata": {
        "colab": {
          "base_uri": "https://localhost:8080/"
        },
        "id": "rbIXD2So_oEM",
        "outputId": "1b1d43bb-c52c-4ecd-f56b-832a9310e7b8"
      },
      "outputs": [
        {
          "output_type": "stream",
          "name": "stdout",
          "text": [
            "F1 Tree Classifier 0.6448598130841121\n",
            "Accuracy Tree Classifier 0.6453333333333333\n"
          ]
        }
      ],
      "source": [
        "clf = DecisionTreeClassifier(max_depth=2, random_state=1)\n",
        "clf.fit(X_train, y_train)\n",
        "y_pred = clf.predict(X_test)\n",
        "F1_T= metrics.f1_score(y_pred, y_test)\n",
        "Accuracy_T=metrics.accuracy_score(y_pred, y_test)\n",
        "print(\"F1 Tree Classifier\",F1_T )\n",
        "print(\"Accuracy Tree Classifier\",Accuracy_T )"
      ]
    },
    {
      "cell_type": "code",
      "execution_count": 77,
      "metadata": {
        "colab": {
          "base_uri": "https://localhost:8080/"
        },
        "id": "ObOqlfIB_xO_",
        "outputId": "f7e9598d-a680-4e25-fb3a-fb3952449781"
      },
      "outputs": [
        {
          "output_type": "execute_result",
          "data": {
            "text/plain": [
              "LogisticRegressionCV(cv=5)"
            ]
          },
          "metadata": {},
          "execution_count": 77
        }
      ],
      "source": [
        "from sklearn.linear_model import LogisticRegressionCV\n",
        "lr = LogisticRegressionCV(cv = 5) \n",
        "lr.fit(X_train, y_train)"
      ]
    },
    {
      "cell_type": "code",
      "execution_count": 78,
      "metadata": {
        "colab": {
          "base_uri": "https://localhost:8080/"
        },
        "id": "3OCX9Vi9_451",
        "outputId": "fae7907d-6161-4005-91ae-cc0d5e0eec52"
      },
      "outputs": [
        {
          "output_type": "execute_result",
          "data": {
            "text/plain": [
              "array([[-6.60648040e-04, -1.73620088e-05,  1.32412817e-04,\n",
              "        -1.12344093e-06, -1.87860305e-06, -1.45400381e-06,\n",
              "         2.57580818e-05, -4.38361831e-06,  3.06891696e-05,\n",
              "         4.50480870e-06, -9.47723146e-06, -7.31185950e-06,\n",
              "         9.78256875e-08, -8.40906988e-07, -1.04907417e-06,\n",
              "         2.55913986e-07,  7.34786187e-07, -1.78393076e-06,\n",
              "        -3.85038618e-04,  3.17343935e-05, -3.85535435e-04,\n",
              "        -6.42603848e-07, -1.78285076e-06, -8.71700675e-07,\n",
              "        -9.61938248e-05, -7.15309004e-05,  7.13837407e-04,\n",
              "         7.08240255e-06,  2.06579629e-06, -2.34802699e-06,\n",
              "        -8.91584429e-08, -8.57077812e-07, -7.67517075e-07,\n",
              "        -2.49953274e-07, -5.74638159e-07,  1.18453194e-07,\n",
              "         7.58672879e-07,  8.77126073e-07, -2.48167405e-07,\n",
              "        -6.33419588e-07, -1.55270380e-06,  6.12468789e-07,\n",
              "         1.60603314e-07, -5.82478317e-07, -1.84949325e-07,\n",
              "        -5.32944787e-08, -3.52157217e-08, -1.17736062e-06,\n",
              "        -7.01242439e-07, -6.92727220e-07, -2.51511176e-07,\n",
              "        -1.24344098e-06,  2.74428765e-07,  4.57376558e-07,\n",
              "         1.12507938e-07,  2.75928317e-07,  5.73979678e-07,\n",
              "        -4.13208536e-07,  4.08070149e-07]])"
            ]
          },
          "metadata": {},
          "execution_count": 78
        }
      ],
      "source": [
        "lr.coef_"
      ]
    },
    {
      "cell_type": "code",
      "execution_count": 79,
      "metadata": {
        "colab": {
          "base_uri": "https://localhost:8080/"
        },
        "id": "hN4c_8fK_4Nf",
        "outputId": "6b5f2860-7db7-4bda-b308-68e07365c4be"
      },
      "outputs": [
        {
          "output_type": "stream",
          "name": "stdout",
          "text": [
            "F1 Logistic CV 0.5991735537190082\n",
            "Accuracy Logistic CV 0.612\n"
          ]
        }
      ],
      "source": [
        "y_pred = lr.predict(X_test)\n",
        "F1_T= metrics.f1_score(y_pred, y_test)\n",
        "Accuracy_T=metrics.accuracy_score(y_pred, y_test)\n",
        "print(\"F1 Logistic CV\",F1_T )\n",
        "print(\"Accuracy Logistic CV\",Accuracy_T )"
      ]
    },
    {
      "cell_type": "markdown",
      "metadata": {
        "id": "ev01eSa45U1z"
      },
      "source": [
        "El árbol de clasificación tiene un mejor desempeño respecto a la regresión logística.\n",
        "\n",
        "F1 Tree Classifier 0.6448598130841121\n",
        "Accuracy Tree Classifier 0.6453333333333333\n",
        "\n",
        "F1 Logistic CV 0.5991735537190082\n",
        "Accuracy Logistic CV 0.612"
      ]
    },
    {
      "cell_type": "markdown",
      "metadata": {
        "id": "L3GsgNThWZm-"
      },
      "source": [
        "### Punto 7 - Votación Mayoritaria\n",
        "En la celda 7 elabore un esamble con la metodología de **Votación mayoritaria** compuesto por 300 muestras bagged para cada uno de los siguientes escenarios:\n",
        "\n",
        "-100 árboles de decisión donde max_depth = None\\\n",
        "-100 árboles de decisión donde max_depth = 2\\\n",
        "-100 regresiones logísticas\n",
        "\n",
        "Evalúe los modelos utilizando las métricas de Accuracy y F1-Score."
      ]
    },
    {
      "cell_type": "code",
      "execution_count": 80,
      "metadata": {
        "id": "RQdNL1CcWZm_"
      },
      "outputs": [],
      "source": [
        "# Celda 7\n",
        "from sklearn.ensemble import BaggingClassifier, VotingClassifier\n",
        "from sklearn.metrics import mean_squared_error"
      ]
    },
    {
      "cell_type": "code",
      "execution_count": 81,
      "metadata": {
        "id": "0FBtTvwjACwF"
      },
      "outputs": [],
      "source": [
        "tree_0= BaggingClassifier(base_estimator=DecisionTreeClassifier(max_depth=None, random_state=123), n_estimators=100)\n",
        "tree_1= BaggingClassifier(base_estimator=DecisionTreeClassifier(max_depth=2, random_state=123), n_estimators=100)\n",
        "logireg = BaggingClassifier(base_estimator=LogisticRegressionCV(),n_estimators=100)\n",
        "\n",
        "models = [(\"t0\", tree_0),(\"t1\", tree_1), (\"Lg\", logireg)]"
      ]
    },
    {
      "cell_type": "code",
      "execution_count": 82,
      "metadata": {
        "colab": {
          "base_uri": "https://localhost:8080/"
        },
        "id": "7XQ5kLiYAIOu",
        "outputId": "fb7f90f7-aea3-44c0-ae1a-064dd32f85f0"
      },
      "outputs": [
        {
          "output_type": "stream",
          "name": "stdout",
          "text": [
            "F1 votacion 0.6450304259634888\n",
            "Accuracy votacion 0.65\n"
          ]
        }
      ],
      "source": [
        "ensamble = VotingClassifier(estimators=models, voting='hard')\n",
        "ensamble.fit(X_train.values, y_train)\n",
        "y_pred = ensamble.predict(X_test)\n",
        "\n",
        "F1_votacion= metrics.f1_score(y_pred, y_test)\n",
        "Accuracy_v=metrics.accuracy_score(y_pred, y_test)\n",
        "print(\"F1 votacion\",F1_votacion)\n",
        "print(\"Accuracy votacion\",Accuracy_v)"
      ]
    },
    {
      "cell_type": "markdown",
      "metadata": {
        "id": "t7kEq39rWZm_"
      },
      "source": [
        "### Punto 8 - Votación Ponderada\n",
        "En la celda 8 elabore un ensamble con la metodología de **Votación ponderada** compuesto por 300 muestras bagged para los mismos tres escenarios del punto 7. Evalúe los modelos utilizando las métricas de Accuracy y F1-Score"
      ]
    },
    {
      "cell_type": "code",
      "execution_count": 83,
      "metadata": {
        "id": "Gwt3IaxxWZnB"
      },
      "outputs": [],
      "source": [
        "# Celda 8\n",
        "from sklearn.metrics import accuracy_score\n",
        "\n",
        "def evaluate_models(models, X_train, X_val, y_train, y_val):\n",
        "\tscores = list()\n",
        "\tfor name, model in models:\n",
        "\t\tmodel.fit(X_train, y_train)\n",
        "\t\tyhat = model.predict(X_val)\n",
        "\t\tacc = accuracy_score(y_val, yhat)\n",
        "\t\tscores.append(acc)\n",
        "  \n",
        "\treturn scores"
      ]
    },
    {
      "cell_type": "code",
      "execution_count": 84,
      "metadata": {
        "id": "hVgEoFC9zEm4"
      },
      "outputs": [],
      "source": [
        "scores = evaluate_models(models, X_train, X_test, y_train, y_test)\n",
        "ensemble = VotingClassifier(estimators=models, voting='soft', weights=scores)"
      ]
    },
    {
      "cell_type": "code",
      "execution_count": 85,
      "metadata": {
        "colab": {
          "base_uri": "https://localhost:8080/"
        },
        "id": "upbqNqIA0ZI6",
        "outputId": "e52efcd4-7506-4818-cbb0-9cd827362219"
      },
      "outputs": [
        {
          "output_type": "stream",
          "name": "stdout",
          "text": [
            "F1 ponderada 0.6635576282478348\n",
            "Accuracy ponderada 0.6633333333333333\n"
          ]
        }
      ],
      "source": [
        "ensemble.fit(X_train, y_train)\n",
        "yhat = ensemble.predict(X_test)\n",
        "\n",
        "F1_ponder= metrics.f1_score(yhat, y_test)\n",
        "Accuracy_p=metrics.accuracy_score(yhat, y_test)\n",
        "print(\"F1 ponderada\",F1_ponder)\n",
        "print(\"Accuracy ponderada\",Accuracy_p)"
      ]
    },
    {
      "cell_type": "markdown",
      "metadata": {
        "id": "LDBTBUqNWZnD"
      },
      "source": [
        "### Punto 9 - Comparación y análisis de resultados\n",
        "En la celda 9 comente sobre los resultados obtenidos con las metodologías usadas en los puntos 7 y 8, compare los resultados y enuncie posibles ventajas o desventajas de cada una de ellas."
      ]
    },
    {
      "cell_type": "code",
      "execution_count": 86,
      "metadata": {
        "colab": {
          "base_uri": "https://localhost:8080/",
          "height": 352
        },
        "id": "Wt7xcgYZWZnD",
        "outputId": "f7139608-9e2c-40f8-8a95-35d13d36e6db"
      },
      "outputs": [
        {
          "output_type": "display_data",
          "data": {
            "text/plain": [
              "<Figure size 432x288 with 1 Axes>"
            ],
            "image/png": "[encoded data removed]"
          },
          "metadata": {
            "needs_background": "light"
          }
        }
      ],
      "source": [
        "# Celda 9\n",
        "fig = plt.figure()\n",
        "ax = fig.add_axes([0,0,1,1])\n",
        "ax.set_title(\"Comparación de modelos\")\n",
        "ejeX = ['F1 votación mayoritaria', 'Accuracy mayoritaria', 'F1 votación ponderada', 'Accuracy ponderada']\n",
        "ejeY = [F1_votacion, Accuracy_v, F1_ponder, Accuracy_p]\n",
        "ax.bar(ejeX,ejeY)\n",
        "def addlabels(x,y,plotP):\n",
        "    for i in range(len(x)):\n",
        "        plotP.text(i,y[i],y[i])\n",
        "addlabels(ejeX,ejeY,plt)\n",
        "plt.show()"
      ]
    },
    {
      "cell_type": "markdown",
      "source": [
        "El modelo de ensamble con la metodología de votación ponderada tiene un mejor desempeño respecto a la votación mayoritaria.\n",
        "\n",
        "F1 ponderada 0.6564171122994652\n",
        "Accuracy ponderada 0.6573333333333333\n",
        "\n",
        "F1 votacion mayoritaria 0.6413559322033898\n",
        "Accuracy votacion mayoritaria 0.6473333333333333\n",
        "\n",
        "En la votación mayoritaria, se predice según la clase que obtiene la mayor cantidad de votos, sigue la distribución de las etiquetas pronosticadas individualmente. La ventaja de la votación ponderada es que logra un rendimiento más alto porque le da más peso a los votos de alta confianza, por lo cual se recomienda para un conjunto de clasificadores bien calibrados."
      ],
      "metadata": {
        "id": "V3e8-cBhdSMV"
      }
    },
    {
      "cell_type": "code",
      "source": [
        ""
      ],
      "metadata": {
        "id": "TDVss4q5n_Mg"
      },
      "execution_count": 86,
      "outputs": []
    }
  ],
  "metadata": {
    "colab": {
      "name": "S1TC1_arboles_ensamblajes.ipynb",
      "toc_visible": true,
      "provenance": []
    },
    "kernelspec": {
      "display_name": "Python 3",
      "language": "python",
      "name": "python3"
    },
    "language_info": {
      "codemirror_mode": {
        "name": "ipython",
        "version": 3
      },
      "file_extension": ".py",
      "mimetype": "text/x-python",
      "name": "python",
      "nbconvert_exporter": "python",
      "pygments_lexer": "ipython3",
      "version": "3.7.3"
    }
  },
  "nbformat": 4,
  "nbformat_minor": 0
}
